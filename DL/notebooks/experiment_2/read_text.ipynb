{
 "cells": [
  {
   "cell_type": "markdown",
   "metadata": {},
   "source": [
    "#### Oferta de trabajo comparacion\n",
    "\n",
    "- [ ] Analizar oferta de trabajo para ver elementos destacados\n",
    "- [ ] Estructurar cv usuario 1\n",
    "- [ ] Modelo a usar"
   ]
  },
  {
   "cell_type": "code",
   "execution_count": 1,
   "metadata": {},
   "outputs": [],
   "source": [
    "\n",
    "id_user = \"1\"\n",
    "datos = {\n",
    "    \"1\":{\n",
    "        \"Person\":{\n",
    "            \"id\":\"1\",\n",
    "            \"name\":\"Luis\",\n",
    "            \"surname\":\"Caumel\",\n",
    "            \"about_me\":\"about me\",\n",
    "            \"birthdata\":\"11-11-1996\",\n",
    "            \"mother_tongue\":\"Spanish\"\n",
    "        },\n",
    "        \"Nationality\": {\n",
    "            \"id_person\":\"1\",\n",
    "            \"value\":\"Spanish\",\n",
    "        },\n",
    "        \"Contact\":{\n",
    "            \"id_person\": \"1\",\n",
    "            \"type_ENUM\": \"mail\",\n",
    "            \"value\":\"luis.caumel@in2ia.com\"\n",
    "        },\n",
    "        \"Address\": {\n",
    "            \"id_person\":\"1\",\n",
    "            \"type_ENUM\":\"home\",\n",
    "            \"line1\":\"C/Calle\",\n",
    "            \"line2\":\"C/Calle\",\n",
    "            \"postal_code\":\"28000\",\n",
    "            \"city\":\"Madrid\",\n",
    "            \"country\":\"Spain\"\n",
    "        },\n",
    "        \"Experience\":[{\n",
    "            \"id_person\":\"1\",\n",
    "            \"position_held\":\"Data Science\",\n",
    "            \"employer\":\"In2AI\",\n",
    "            \"city\":\"Madrid\",\n",
    "            \"country\":\"Spain\",\n",
    "            \"from_date\":\"01-01-2020\",\n",
    "            \"to_date\":\"01-01-2022\",\n",
    "            \"description\":\"description\"\n",
    "        }],\n",
    "        \"Education\":[\n",
    "        {\n",
    "            \"id_person\":\"1\",\n",
    "            \"tittle\":\"Computer Science\",\n",
    "            \"organisation\":\"University\",\n",
    "            \"city\":\"Madrid\",\n",
    "            \"website\":\"www.in2ai.com\",\n",
    "            \"country\":\"Spain\",\n",
    "            \"from_date\":\"\",\n",
    "            \"to_date\":\"01-01-2018\",\n",
    "            \"description\":\"description_1\"\n",
    "        }\n",
    "        ],\n",
    "        \"Language\":[\n",
    "        {\n",
    "            \"id_person\":\"1\",\n",
    "            \"language\":\"Spanish\",\n",
    "            \"listening\":\"Spanish_1\",\n",
    "            \"reading\":\"Spanish_1\",\n",
    "            \"spoken_interaction\":\"interaction\",\n",
    "            \"spoken_production\":\"production\",\n",
    "            \"writing\":\"Spanish_1\"\n",
    "        }\n",
    "        ],\n",
    "        \"Skills\": [\n",
    "        \n",
    "        {\"id_person\":\"1\",\"value\":\"1\",\"description\":\"Python\"},\n",
    "        {\"id_person\":\"1\",\"value\":\"1\",\"description\":\"Java\"}\n",
    "\n",
    "        ],\n",
    "        \"Projects\":[\n",
    "        {\n",
    "            \"id_person\":\"1\",\n",
    "            \"title\":\"Project_1\",\n",
    "            \"from_date\":\"01-01-2018\",\n",
    "            \"to_date\":\"01-01-2018\",\n",
    "            \"description\":\"description\",\n",
    "            \"url\":\"url\"\n",
    "        },\n",
    "        {\n",
    "            \"id_person\":\"1\",\n",
    "            \"title\":\"Project_2\",\n",
    "            \"from_date\":\"01-01-2018\",\n",
    "            \"to_date\":\"01-01-2018\",\n",
    "            \"description\":\"description\",\n",
    "            \"url\":\"url\"\n",
    "        }\n",
    "        ],\n",
    "        \"Licenses\":[\n",
    "        {\n",
    "            \"id_person\":\"1\",\n",
    "            \"type\":\"license_1\"\n",
    "        },\n",
    "        {\n",
    "            \"id_person\":\"1\",\n",
    "            \"type\":\"license_2\"\n",
    "        }\n",
    "        ],\n",
    "        \"Other\":[\n",
    "        {\n",
    "            \"id_person\":\"1\",\n",
    "            \"section_title\":\"section_1\",\n",
    "            \"from_date\":\"01-01-2018\",\n",
    "            \"to_date\":\"01-01-2018\",\n",
    "            \"description\":\"description\",\n",
    "            \"url\":\"url\"\n",
    "        },\n",
    "        {\n",
    "            \"id_person\":\"1\",\n",
    "            \"section_title\":\"section_2\",\n",
    "            \"from_date\":\"01-01-2018\",\n",
    "            \"to_date\":\"01-01-2018\",\n",
    "            \"description\":\"description\",\n",
    "            \"url\":\"url\"\n",
    "        }\n",
    "        ]\n",
    "    }\n",
    "}"
   ]
  },
  {
   "cell_type": "code",
   "execution_count": 2,
   "metadata": {},
   "outputs": [],
   "source": [
    "# https://www.linkedin.com/jobs/search/?currentJobId=3797255515&geoId=100994331&keywords=Recursos%20humanos%20(RR.%C2%A0HH.)&location=Madrid%2C%20Comunidad%20de%20Madrid%2C%20Espa%C3%B1a&origin=JOB_SEARCH_PAGE_LOCATION_AUTOCOMPLETE&refresh=true\n",
    "\n",
    "oferta_en = \"\"\"\n",
    "Who are we?\n",
    "\n",
    "Amaris Consulting is an independent technology consulting firm providing guidance and solutions to businesses. With more than 1,000 clients across the globe, we have been rolling out solutions in major projects for over a decade – this is made possible by an international team of 7,500 people spread across 5 continents and more than 60 countries. Our solutions focus on four different Business Lines: Information System & Digital, Telecom, Life Sciences and Engineering. We’re focused on building and nurturing a top talent community where all our team members can achieve their full potential. Amaris is your steppingstone to cross rivers of change, meet challenges and achieve all your projects with success.\n",
    "\n",
    "At Amaris, we strive to provide our candidates with the best possible recruitment experience. We like to get to know our candidates, challenge them, and be able to give them proper feedback as quickly as possible. Here's what our recruitment process looks like:\n",
    "\n",
    "Brief Call: Our process typically begins with a brief virtual/phone conversation to get to know you! The objective? Learn about you, understand your motivations, and make sure we have the right job for you!\n",
    "\n",
    "Interviews (the average number of interviews is 3 - the number may vary depending on the level of seniority required for the position). During the interviews, you will meet people from our team: your line manager of course, but also other people related to your future role. We will talk in depth about you, your experience, and skills, but also about the position and what will be expected of you. Of course, you will also get to know Amaris: our culture, our roots, our teams, and your career opportunities!\n",
    "\n",
    "Case study: Depending on the position, we may ask you to take a test. This could be a role play, a technical assessment, a problem-solving scenario, etc.\n",
    "\n",
    "As you know, every person is different and so is every role in a company. That is why we have to adapt accordingly, and the process may differ slightly at times. However, please know that we always put ourselves in the candidate's shoes to ensure they have the best possible experience.\n",
    "\n",
    "We look forward to meeting you!\n",
    "\n",
    "Job Description\n",
    "\n",
    "We are currently seeking an entry-level HR Assistant to join our dynamic team in Spain. This role will provide you with a unique opportunity to kickstart your career in human resources within an international consulting group.\n",
    "\n",
    "Assist with day-to-day operations of the HR functions and duties.\n",
    "Provide clerical and administrative support to Human Resources executives.\n",
    "Compile and update employee records (hard and soft copies).\n",
    "Process documentation and prepare reports relating to personnel activities (staffing, recruitment, training, grievances, performance evaluations etc.).\n",
    "Schedule job interviews and assist in interview process.\n",
    "Maintain calendars of HR management team.\n",
    "Orient new employees to the organization (setting up a designated log-in, workstation, email address etc.).\n",
    "Efficiently manage employee questions (trough tickets), providing clear answers and effective solutions.\n",
    "\n",
    "Profile : \n",
    "\n",
    "Master's in business school or in law.\n",
    "Experience in an international company is a plus.\n",
    "Good level of English written and spoken and Portuguese is a plus.\n",
    "Client-oriented, organization, rigor and reliability.\n",
    "Mastery of generative AI (ex: ChatGPT/Poe.com, etc…) is a plus for improving day-to-day productivity.\n",
    "\n",
    "\n",
    "\"Mantu is proud to be an equal opportunity workplace. We are committed to promoting diversity within the workforce and creating an inclusive working environment. For this purpose, we welcome applications from all qualified candidates regardless of gender, sexual orientation, race, ethnicity, beliefs, age, marital status, disability, or other characteristics.\"\n",
    "Aptitudes y experiencia deseables\n",
    "Problem Analysis, Problem Solving, Rigor, Human Resources, Customer oriented\n",
    "\"\"\""
   ]
  },
  {
   "cell_type": "code",
   "execution_count": 3,
   "metadata": {},
   "outputs": [
    {
     "name": "stdout",
     "output_type": "stream",
     "text": [
      "['who are we', 'amaris consulting is an independent technology consulting firm providing guidance and solutions to businesses with more than  clients across the globe we have been rolling out solutions in major projects for over a decade  this is made possible by an international team of  people spread across  continents and more than  countries our solutions focus on four different business lines information system  digital telecom life sciences and engineering were focused on building and nurturing a top talent community where all our team members can achieve their full potential amaris is your steppingstone to cross rivers of change meet challenges and achieve all your projects with success', 'at amaris we strive to provide our candidates with the best possible recruitment experience we like to get to know our candidates challenge them and be able to give them proper feedback as quickly as possible heres what our recruitment process looks like', 'brief call our process typically begins with a brief virtualphone conversation to get to know you the objective learn about you understand your motivations and make sure we have the right job for you', 'interviews the average number of interviews is   the number may vary depending on the level of seniority required for the position during the interviews you will meet people from our team your line manager of course but also other people related to your future role we will talk in depth about you your experience and skills but also about the position and what will be expected of you of course you will also get to know amaris our culture our roots our teams and your career opportunities', 'case study depending on the position we may ask you to take a test this could be a role play a technical assessment a problemsolving scenario etc', 'as you know every person is different and so is every role in a company that is why we have to adapt accordingly and the process may differ slightly at times however please know that we always put ourselves in the candidates shoes to ensure they have the best possible experience', 'we look forward to meeting you', 'job description', 'we are currently seeking an entrylevel hr assistant to join our dynamic team in spain this role will provide you with a unique opportunity to kickstart your career in human resources within an international consulting group', 'assist with daytoday operations of the hr functions and duties', 'provide clerical and administrative support to human resources executives', 'compile and update employee records hard and soft copies', 'process documentation and prepare reports relating to personnel activities staffing recruitment training grievances performance evaluations etc', 'schedule job interviews and assist in interview process', 'maintain calendars of hr management team', 'orient new employees to the organization setting up a designated login workstation email address etc', 'efficiently manage employee questions trough tickets providing clear answers and effective solutions', 'profile  ', 'masters in business school or in law', 'experience in an international company is a plus', 'good level of english written and spoken and portuguese is a plus', 'clientoriented organization rigor and reliability', 'mastery of generative ai ex chatgptpoecom etc is a plus for improving daytoday productivity', 'mantu is proud to be an equal opportunity workplace we are committed to promoting diversity within the workforce and creating an inclusive working environment for this purpose we welcome applications from all qualified candidates regardless of gender sexual orientation race ethnicity beliefs age marital status disability or other characteristics', 'aptitudes y experiencia deseables', 'problem analysis problem solving rigor human resources customer oriented']\n",
      "['amaris', 'consulting', 'independent', 'technology', 'consulting', 'firm', 'provide', 'guidance', 'solution', 'business', 'client', 'globe', 'roll', 'solution', 'major', 'project', 'decade', 'possible', 'international', 'team', 'people', 'spread', 'continent', 'country', 'solution', 'focus', 'different', 'business', 'line', 'information', 'system', 'digital', 'telecom', 'life', 'science', 'engineering', 'focus', 'build', 'nurture', 'talent', 'community', 'team', 'member', 'achieve', 'potential', 'amaris', 'steppingstone', 'cross', 'river', 'change', 'meet', 'challenge', 'achieve', 'project', 'success']\n",
      "['amaris', 'strive', 'provide', 'candidate', 'good', 'possible', 'recruitment', 'experience', 'like', 'know', 'candidate', 'challenge', 'able', 'proper', 'feedback', 'quickly', 'possible', 'here', 'recruitment', 'process', 'look', 'like']\n",
      "['brief', 'process', 'typically', 'begin', 'brief', 'virtualphone', 'conversation', 'know', 'objective', 'learn', 'understand', 'motivation', 'sure', 'right', 'job']\n",
      "['interview', 'average', 'number', 'interview', '  ', 'number', 'vary', 'depend', 'level', 'seniority', 'require', 'position', 'interview', 'meet', 'people', 'team', 'line', 'manager', 'course', 'people', 'relate', 'future', 'role', 'talk', 'depth', 'experience', 'skill', 'position', 'expect', 'course', 'know', 'amaris', 'culture', 'root', 'team', 'career', 'opportunity']\n",
      "['case', 'study', 'depend', 'position', 'ask', 'test', 'role', 'play', 'technical', 'assessment', 'problemsolving', 'scenario', 'etc']\n",
      "['know', 'person', 'different', 'role', 'company', 'adapt', 'accordingly', 'process', 'differ', 'slightly', 'time', 'know', 'candidate', 'shoe', 'ensure', 'good', 'possible', 'experience']\n",
      "['look', 'forward', 'meet']\n",
      "['job', 'description']\n",
      "['currently', 'seek', 'entrylevel', 'hr', 'assistant', 'join', 'dynamic', 'team', 'spain', 'role', 'provide', 'unique', 'opportunity', 'kickstart', 'career', 'human', 'resource', 'international', 'consulting', 'group']\n",
      "['assist', 'daytoday', 'operation', 'hr', 'function', 'duty']\n",
      "['provide', 'clerical', 'administrative', 'support', 'human', 'resource', 'executive']\n",
      "['compile', 'update', 'employee', 'record', 'hard', 'soft', 'copy']\n",
      "['process', 'documentation', 'prepare', 'report', 'relate', 'personnel', 'activity', 'staff', 'recruitment', 'training', 'grievance', 'performance', 'evaluation', 'etc']\n",
      "['schedule', 'job', 'interview', 'assist', 'interview', 'process']\n",
      "['maintain', 'calendar', 'hr', 'management', 'team']\n",
      "['orient', 'new', 'employee', 'organization', 'set', 'designate', 'login', 'workstation', 'email', 'address', 'etc']\n",
      "['efficiently', 'manage', 'employee', 'question', 'trough', 'ticket', 'provide', 'clear', 'answer', 'effective', 'solution']\n",
      "['profile']\n",
      "['master', 'business', 'school', 'law']\n",
      "['experience', 'international', 'company', 'plus']\n",
      "['good', 'level', 'english', 'write', 'speak', 'portuguese', 'plus']\n",
      "['clientoriente', 'organization', 'rigor', 'reliability']\n",
      "['mastery', 'generative', 'ai', 'ex', 'chatgptpoecom', 'etc', 'plus', 'improve', 'daytoday', 'productivity']\n",
      "['mantu', 'proud', 'equal', 'opportunity', 'workplace', 'committed', 'promote', 'diversity', 'workforce', 'create', 'inclusive', 'working', 'environment', 'purpose', 'welcome', 'application', 'qualified', 'candidate', 'regardless', 'gender', 'sexual', 'orientation', 'race', 'ethnicity', 'belief', 'age', 'marital', 'status', 'disability', 'characteristic']\n",
      "['aptitude', 'y', 'experiencia', 'deseable']\n",
      "['problem', 'analysis', 'problem', 'solve', 'rigor', 'human', 'resource', 'customer', 'orient']\n"
     ]
    }
   ],
   "source": [
    "import re\n",
    "import spacy\n",
    "nlp = spacy.load('en_core_web_sm')\n",
    "\n",
    "\n",
    "texto_limpio = re.sub(r'[^a-zA-ZñÑáéíóúÁÉÍÓÚüÜ\\s]', '', oferta_en)  # Remover puntuaciones y caracteres especiales\n",
    "texto_limpio = texto_limpio.lower()\n",
    "\n",
    "result = [line for line in texto_limpio.splitlines( ) if line != '']\n",
    "\n",
    "print(result)\n",
    "\n",
    "texto_limpio = []\n",
    "for linea in result:\n",
    "    doc = nlp(linea)\n",
    "    listas_filtradas = [token.lemma_ for token in doc if not token.is_stop]\n",
    "    listas_filtradas = [element for element in listas_filtradas if element != ' ']\n",
    "    if listas_filtradas:\n",
    "        texto_limpio.append(listas_filtradas)\n",
    "    \n",
    "        print(listas_filtradas)\n",
    "\n"
   ]
  },
  {
   "cell_type": "markdown",
   "metadata": {},
   "source": [
    "### Model"
   ]
  },
  {
   "cell_type": "code",
   "execution_count": 3,
   "metadata": {},
   "outputs": [
    {
     "name": "stderr",
     "output_type": "stream",
     "text": [
      "/usr/local/lib/python3.10/site-packages/fuzzywuzzy/fuzz.py:11: UserWarning: Using slow pure-python SequenceMatcher. Install python-Levenshtein to remove this warning\n",
      "  warnings.warn('Using slow pure-python SequenceMatcher. Install python-Levenshtein to remove this warning')\n"
     ]
    }
   ],
   "source": [
    "import numpy as np\n",
    "import pandas as pd\n",
    "import matplotlib.pyplot as plt\n",
    "import seaborn as sns\n",
    "import pdfplumber\n",
    "import re\n",
    "from nltk.stem import WordNetLemmatizer\n",
    "from nltk.corpus import stopwords\n",
    "from fuzzywuzzy import fuzz\n",
    "from sklearn.feature_extraction.text import CountVectorizer\n",
    "from scipy import stats\n",
    "from gensim.models import Word2Vec\n",
    "from gensim.models import KeyedVectors\n",
    "from tqdm import tqdm\n",
    "import spacy\n",
    "nlp = spacy.load('en_core_web_sm')"
   ]
  },
  {
   "cell_type": "code",
   "execution_count": 4,
   "metadata": {},
   "outputs": [],
   "source": [
    "def pdf2Text(filename):\n",
    "    ''' load pdf and return the text'''\n",
    "    text = ''\n",
    "    # open the pdf file\n",
    "    with pdfplumber.open(filename) as pdfObj:\n",
    "        # loop over each page\n",
    "        for page in pdfObj.pages:\n",
    "            # get text from the page and concat\n",
    "            text += page.extract_text()\n",
    "    # return all texts\n",
    "    return text\n",
    "\n",
    "jd = pdf2Text('../data/dataset/Job description.pdf')\n"
   ]
  },
  {
   "cell_type": "code",
   "execution_count": 5,
   "metadata": {},
   "outputs": [],
   "source": [
    "def concat(s):\n",
    "    '''Concatenate words like \"D A T A  S C I E N C E\" to get \"DATA SCIENCE\"'''\n",
    "    # add spaces at both end for better processing\n",
    "    s = ' '+s+' '\n",
    "    while True:\n",
    "        # search if more than two alphabets are separated by space\n",
    "        x = re.search(r\"(\\s[a-zA-Z]){2,}\\s\", s)\n",
    "        if x==None:\n",
    "            break\n",
    "        # replace to get the concatenation\n",
    "        s = s.replace(x.group(),' '+x.group().replace(' ','')+' ')\n",
    "    return s\n",
    "\n",
    "def preprocess_text(x, removeStopWords=False):\n",
    "    # convert to lower case\n",
    "    x = re.sub(r'[^a-zA-ZñÑáéíóúÁÉÍÓÚüÜ\\s]', '', x)  # Remover puntuaciones y caracteres especiales\n",
    "    x = str(x).lower()\n",
    "    # replace unusual quotes with '\n",
    "    x = x.replace(\"′\", \"'\").replace(\"’\", \"'\")\n",
    "    # replace new line with space\n",
    "    x = x.replace(\"\\n\", \" \")\n",
    "    # remove links\n",
    "    x = re.sub(r\"http\\S+\", \"\", x)\n",
    "    # convert education degrees like B.Tech or BTech to a specified form\n",
    "    x = re.sub(r\"\\s+b[.]?[ ]?tech[(. /]{1}\", \" btech bachelor of technology \", x)\n",
    "    x = re.sub(r\"\\s+m[.]?[ ]?tech[(. ]{1}\", \" mtech master of technology \", x)\n",
    "    x = re.sub(r\"\\s+b[.]?[ ]?a[(. ]{1}\", \" ba bachelor of arts \", x)\n",
    "    x = re.sub(r\"\\s+m[.]?[ ]?a[(. ]{1}\", \" ma master of arts \", x)\n",
    "    x = re.sub(r\"\\s+b[.]?[ ]?sc[(. ]{1}\", \" bsc bachelor of science \", x)\n",
    "    x = re.sub(r\"\\s+m[.]?[ ]?sc[(. ]{1}\", \" msc master of science \", x)\n",
    "    x = re.sub(r\"\\s+b[.]?[ ]?e[(. ]{1}\", \" beng bachelor of engineering \", x)\n",
    "    x = re.sub(r\"\\s+m[.]?[ ]?e[(. ]{1}\", \" meng master of engineering \", x)\n",
    "    x = re.sub(r\"\\s+b[.]?[ ]?c[.]?[ ]?a[(. ]{1}\", \" bca bachelor of computer applications \", x)\n",
    "    x = re.sub(r\"\\s+m[.]?[ ]?c[.]?[ ]?a[(. ]{1}\", \" mca master of computer applications \", x)\n",
    "    x = re.sub(r\"\\s+b[.]?[ ]?b[.]?[ ]?a[(. ]{1}\", \" bba bachelor of business administration \", x)\n",
    "    x = re.sub(r\"\\s+m[.]?[ ]?b[.]?[ ]?a[(. ]{1}\", \" mba master of business administration \", x)\n",
    "    \n",
    "    # convert skills with special symbols to words\n",
    "    x = x.replace(\"c++\", \"cplusplus\")\n",
    "    x = x.replace(\"c#\", \"csharp\")\n",
    "    x = x.replace(\".net\", \"dotnet\")\n",
    "    \n",
    "    # replace non alpha numeric character with space\n",
    "    x = re.sub('\\W', ' ', x)\n",
    "\n",
    "    x = [line for line in x.splitlines( ) if line != '']\n",
    "\n",
    "    z = []\n",
    "    for linea in x:\n",
    "        doc = nlp(linea)\n",
    "        listas_filtradas = [token.lemma_ for token in doc if not token.is_stop]\n",
    "        listas_filtradas = [element for element in listas_filtradas if element != ' ']\n",
    "        if removeStopWords and listas_filtradas:\n",
    "            z.append(\" \".join(listas_filtradas))\n",
    "\n",
    "    z = ' '.join(z)\n",
    "    z = concat(z)\n",
    "    # strip white spaces\n",
    "    z = z.strip()\n",
    "    return z"
   ]
  },
  {
   "cell_type": "code",
   "execution_count": 6,
   "metadata": {},
   "outputs": [
    {
     "name": "stdout",
     "output_type": "stream",
     "text": [
      "machine learn engineering abc knowledge innovation ll focus research building designing selfrunne artificial intelligence ai system automate predictive model responsible design create ai algorithm capable learn make prediction define machine learn ml experience qualification bachelor master degree mention course requirement    year work experience provide analytic solution commercial set technical expertise machine learn cluster logistic regression classification different library scikit learn numpy panda matplotlib seaborn deep learn framework tensorflow keras pytorch application neural network model cnn rnn gans familiar natural language processing associate library like nltk spacy beautiful soup pyspark hadoop big datum pipeline datum science methodology exploratory datum analysis feature engineering model selection deployment model scale model evaluation deploy nlp architecture computer vision model production consider plus transformer advance technique nlp familiar computer vision model object detection ocr opencv analytical tool reduce medium data transfer web framework like django database like mongodb nosql graphql sql firebase aw azure google cloud platform job type time\n",
      "amaris consulting independent technology consulting firm provide guidance solution business client globe roll solution major project decade possible international team people spread continent country solution focus different business line information system digital telecom life science engineering focus build nurture talent community team member achieve potential amaris steppingstone cross river change meet challenge achieve project success amaris strive provide candidate good possible recruitment experience like know candidate challenge beng bachelor engineering able proper feedback quickly possible here recruitment process look like brief process typically begin brief virtualphone conversation know objective learn understand motivation sure right job interview average number interview    number vary depend level seniority require position interview meet people team line manager course people relate future role talk depth experience skill position beng bachelor engineering expect course know amaris culture root team career opportunity case study depend position ask test beng bachelor engineering role play technical assessment problemsolving scenario etc know person different role company adapt accordingly process differ slightly time know candidate shoe ensure good possible experience look forward meet job description currently seek entrylevel hr assistant join dynamic team spain role provide unique opportunity kickstart career human resource international consulting group assist daytoday operation hr function duty provide clerical administrative support human resource executive compile update employee record hard soft copy process documentation prepare report relate personnel activity staff recruitment training grievance performance evaluation etc schedule job interview assist interview process maintain calendar hr management team orient new employee organization set designate login workstation email address etc efficiently manage employee question trough ticket provide clear answer effective solution profile     master business school law experience international company plus good level english write speak portuguese plus clientoriented organization rigor reliability mastery generative ai ex chatgptpoecom etc plus improve daytoday productivity    mantu proud beng bachelor engineer equal opportunity workplace committed promote diversity workforce create inclusive working environment purpose welcome application qualified candidate regardless gender sexual orientation race ethnicity belief age marital status disability characteristic aptitude y experiencia deseable problem analysis problem solve rigor human resource customer orient\n"
     ]
    }
   ],
   "source": [
    "\n",
    "jd_processed = preprocess_text(jd, removeStopWords=True)\n",
    "print(jd_processed)\n",
    "cv_processed = preprocess_text(oferta_en, removeStopWords=True)\n",
    "print(cv_processed)\n"
   ]
  },
  {
   "cell_type": "code",
   "execution_count": 8,
   "metadata": {},
   "outputs": [],
   "source": [
    "csvData = pd.read_csv('../data/dataset/train.csv')"
   ]
  },
  {
   "cell_type": "code",
   "execution_count": 9,
   "metadata": {},
   "outputs": [],
   "source": [
    "# preprocess all resumes\n",
    "resumes = []\n",
    "for candidateID in csvData.CandidateID.values:\n",
    "    # load resume pdf\n",
    "    resume = pdf2Text('../data/dataset/trainResumes/'+candidateID+'.pdf')\n",
    "    # preprocess\n",
    "    resume_processed = preprocess_text(resume, removeStopWords=True)\n",
    "    resumes.append(resume_processed)"
   ]
  },
  {
   "cell_type": "markdown",
   "metadata": {},
   "source": [
    "#### feature encoding"
   ]
  },
  {
   "cell_type": "code",
   "execution_count": null,
   "metadata": {},
   "outputs": [],
   "source": [
    "# binary BoW, TF-IDF,average Word2Vec, Bert based"
   ]
  },
  {
   "cell_type": "code",
   "execution_count": 10,
   "metadata": {},
   "outputs": [],
   "source": [
    "data = pd.DataFrame({'job_description': [jd_processed]*len(csvData), 'processed_resume': resumes, 'match_percentage': csvData['Match Percentage']})\n",
    "\n",
    "reputed_colleges = ['bits', 'iit', 'bhu', 'nit', 'vit', 'anna', 'jadavpur', 'tiet', 'thapar', 'iisc', 'srm', 'dtu', 'iiit']\n",
    "\n",
    "# check if is from reputed college\n",
    "def is_from_reputed_college(x):\n",
    "    x = x.split()\n",
    "    for i in reputed_colleges:\n",
    "        if i in x:\n",
    "            return 1\n",
    "    return 0\n",
    "\n",
    "def feature_extract(data):\n",
    "    '''extract features'''\n",
    "    # number of words in resume\n",
    "    data['resume_word_num'] = data.processed_resume.apply(lambda x: len(x.split()))\n",
    "    # number of unique words in job description and resumes \n",
    "    data['total_unique_word_num'] = data.apply(lambda x: len(set(x.job_description.split()).union(set(x.processed_resume.split()))) ,axis=1)\n",
    "    # number of common words in job description and resumes\n",
    "    data['common_word_num'] = data.apply(lambda x: len(set(x.job_description.split()).intersection(set(x.processed_resume.split()))) ,axis=1)\n",
    "    # number of common words divided by total number of unique words combined in both job description and resumes\n",
    "    data['common_word_ratio'] = data['common_word_num'] / data.apply(lambda x: len(set(x.job_description.split()).union(set(x.processed_resume.split()))) ,axis=1)\n",
    "    # number of common words divided by minimum number of unique words between job description and resumes\n",
    "    data['common_word_ratio_min'] = data['common_word_num'] / data.apply(lambda x: min(len(set(x.job_description.split())), len(set(x.processed_resume.split()))) ,axis=1) \n",
    "    # number of common words divided by maximum number of unique words between job description and resumes\n",
    "    data['common_word_ratio_max'] = data['common_word_num'] / data.apply(lambda x: max(len(set(x.job_description.split())), len(set(x.processed_resume.split()))) ,axis=1) \n",
    "    \n",
    "    # Fuzz WRatio\n",
    "    data[\"fuzz_ratio\"] = data.apply(lambda x: fuzz.WRatio(x.job_description, x.processed_resume), axis=1)\n",
    "    # Fuzz partial ratio\n",
    "    data[\"fuzz_partial_ratio\"] = data.apply(lambda x: fuzz.partial_ratio(x.job_description, x.processed_resume), axis=1)\n",
    "    # Fuzz token set ratio\n",
    "    data[\"fuzz_token_set_ratio\"] = data.apply(lambda x: fuzz.token_set_ratio(x.job_description, x.processed_resume), axis=1)\n",
    "    # Fuzz token sort ratio\n",
    "    data[\"fuzz_token_sort_ratio\"] = data.apply(lambda x: fuzz.token_sort_ratio(x.job_description, x.processed_resume), axis=1)\n",
    "    \n",
    "    # is fresher\n",
    "    data['is_fresher'] = data.processed_resume.apply(lambda x: int('fresher' in x.split()))\n",
    "    # from reputed college\n",
    "    data['from_reputed_college'] = data.processed_resume.apply(lambda x: is_from_reputed_college(x))\n",
    "    \n",
    "    # fill na fields with 0\n",
    "    data.fillna(0, inplace=True)\n",
    "    return data"
   ]
  },
  {
   "cell_type": "markdown",
   "metadata": {},
   "source": [
    "### Model"
   ]
  },
  {
   "cell_type": "markdown",
   "metadata": {},
   "source": [
    "#### Bert"
   ]
  },
  {
   "cell_type": "code",
   "execution_count": 5,
   "metadata": {},
   "outputs": [
    {
     "name": "stderr",
     "output_type": "stream",
     "text": [
      "/usr/local/lib/python3.10/site-packages/tqdm/auto.py:21: TqdmWarning: IProgress not found. Please update jupyter and ipywidgets. See https://ipywidgets.readthedocs.io/en/stable/user_install.html\n",
      "  from .autonotebook import tqdm as notebook_tqdm\n",
      "/usr/local/lib/python3.10/site-packages/huggingface_hub/utils/_runtime.py:184: UserWarning: Pydantic is installed but cannot be imported. Please check your installation. `huggingface_hub` will default to not using Pydantic. Error message: '{e}'\n",
      "  warnings.warn(\n",
      "2024-01-29 12:15:30.541527: I tensorflow/core/util/port.cc:110] oneDNN custom operations are on. You may see slightly different numerical results due to floating-point round-off errors from different computation orders. To turn them off, set the environment variable `TF_ENABLE_ONEDNN_OPTS=0`.\n",
      "2024-01-29 12:15:30.561865: I tensorflow/tsl/cuda/cudart_stub.cc:28] Could not find cuda drivers on your machine, GPU will not be used.\n",
      "2024-01-29 12:15:30.754441: I tensorflow/tsl/cuda/cudart_stub.cc:28] Could not find cuda drivers on your machine, GPU will not be used.\n",
      "2024-01-29 12:15:30.756756: I tensorflow/core/platform/cpu_feature_guard.cc:182] This TensorFlow binary is optimized to use available CPU instructions in performance-critical operations.\n",
      "To enable the following instructions: AVX2 AVX_VNNI FMA, in other operations, rebuild TensorFlow with the appropriate compiler flags.\n",
      "2024-01-29 12:15:31.633913: W tensorflow/compiler/tf2tensorrt/utils/py_utils.cc:38] TF-TRT Warning: Could not find TensorRT\n"
     ]
    }
   ],
   "source": [
    "# imports\n",
    "from transformers import DistilBertTokenizer, TFDistilBertModel\n",
    "import tensorflow as tf\n",
    "from tensorflow import keras\n",
    "from tensorflow.keras import layers\n",
    "import numpy as np\n",
    "import pandas as pd\n",
    "import pdfplumber\n",
    "import random\n",
    "import matplotlib.pyplot as plt\n",
    "import seaborn as sns\n",
    "from sklearn.preprocessing import StandardScaler\n",
    "from sklearn.model_selection import train_test_split\n",
    "from sklearn.feature_selection import SequentialFeatureSelector\n",
    "from sklearn.linear_model import LinearRegression\n",
    "from prettytable import PrettyTable\n",
    "import spacy\n",
    "nlp = spacy.load('en_core_web_sm')"
   ]
  },
  {
   "cell_type": "code",
   "execution_count": 6,
   "metadata": {},
   "outputs": [],
   "source": [
    "# set random seeds\n",
    "seed = 7\n",
    "tf.random.set_seed(seed)\n",
    "random.seed(seed)\n",
    "BATCH_SIZE = 4"
   ]
  },
  {
   "cell_type": "code",
   "execution_count": 7,
   "metadata": {},
   "outputs": [
    {
     "name": "stderr",
     "output_type": "stream",
     "text": [
      "Some weights of the PyTorch model were not used when initializing the TF 2.0 model TFDistilBertModel: ['vocab_transform.bias', 'vocab_layer_norm.weight', 'vocab_transform.weight', 'vocab_projector.bias', 'vocab_layer_norm.bias']\n",
      "- This IS expected if you are initializing TFDistilBertModel from a PyTorch model trained on another task or with another architecture (e.g. initializing a TFBertForSequenceClassification model from a BertForPreTraining model).\n",
      "- This IS NOT expected if you are initializing TFDistilBertModel from a PyTorch model that you expect to be exactly identical (e.g. initializing a TFBertForSequenceClassification model from a BertForSequenceClassification model).\n",
      "All the weights of TFDistilBertModel were initialized from the PyTorch model.\n",
      "If your task is similar to the task the model of the checkpoint was trained on, you can already use TFDistilBertModel for predictions without further training.\n"
     ]
    }
   ],
   "source": [
    "# load pretrained models\n",
    "tokenizer = DistilBertTokenizer.from_pretrained(\"distilbert-base-uncased\")\n",
    "distilbert_model = TFDistilBertModel.from_pretrained(\"distilbert-base-uncased\")"
   ]
  },
  {
   "cell_type": "code",
   "execution_count": 8,
   "metadata": {},
   "outputs": [],
   "source": [
    "jd = pdf2Text('../data/dataset/Job description.pdf')\n",
    "jd_encoded = tokenizer.encode(jd, max_length=300, padding='max_length', truncation=True)"
   ]
  },
  {
   "cell_type": "code",
   "execution_count": 9,
   "metadata": {},
   "outputs": [],
   "source": [
    "csvData = pd.read_csv('../data/dataset/train.csv')\n",
    "resumes = []\n",
    "for candidateID in csvData.CandidateID.values:\n",
    "    # load resume pdf\n",
    "    resume = pdf2Text('../data/dataset/trainResumes/'+candidateID+'.pdf')\n",
    "    resumes.append(resume)"
   ]
  },
  {
   "cell_type": "code",
   "execution_count": 10,
   "metadata": {},
   "outputs": [],
   "source": [
    "resumes_encoded = []\n",
    "for resume in resumes:\n",
    "    # encode with the tokenizer\n",
    "    resume_encoded = tokenizer.encode(resume, max_length=300, padding='max_length', truncation=True)\n",
    "    resumes_encoded.append(resume_encoded)\n",
    "resumes_encoded = np.array(resumes_encoded)"
   ]
  },
  {
   "cell_type": "code",
   "execution_count": 11,
   "metadata": {},
   "outputs": [],
   "source": [
    "# get output corresponding to CLS token\n",
    "jd_cls = distilbert_model(np.array([jd_encoded])).last_hidden_state[0][0]"
   ]
  },
  {
   "cell_type": "code",
   "execution_count": 12,
   "metadata": {},
   "outputs": [],
   "source": [
    "X_data = []\n",
    "for resume_encoded in resumes_encoded:\n",
    "    # get output corresponding to CLS token\n",
    "    resume_cls = distilbert_model(np.array([resume_encoded])).last_hidden_state[0][0]\n",
    "    X_data.append(tf.concat(axis=0, values = [jd_cls, resume_cls]))\n",
    "X_data = np.array(X_data)"
   ]
  },
  {
   "cell_type": "code",
   "execution_count": 11,
   "metadata": {},
   "outputs": [
    {
     "data": {
      "text/plain": [
       "(90, 1536)"
      ]
     },
     "execution_count": 11,
     "metadata": {},
     "output_type": "execute_result"
    }
   ],
   "source": [
    "X_data.shape"
   ]
  },
  {
   "cell_type": "code",
   "execution_count": 13,
   "metadata": {},
   "outputs": [],
   "source": [
    "y = csvData['Match Percentage'].to_numpy()"
   ]
  },
  {
   "cell_type": "code",
   "execution_count": 14,
   "metadata": {},
   "outputs": [],
   "source": [
    "# create x y pair\n",
    "X_data_tf = tf.data.Dataset \\\n",
    "                .from_tensor_slices((X_data, y)) \\\n",
    "                .shuffle(100)"
   ]
  },
  {
   "cell_type": "code",
   "execution_count": 15,
   "metadata": {},
   "outputs": [],
   "source": [
    "train_size = int(.7 * len(X_data_tf))\n",
    "val_size = int(.1 * len(X_data_tf))\n",
    "\n",
    "# get train, cv and test data\n",
    "train_ds = X_data_tf.take(train_size)    \n",
    "val_ds = X_data_tf.skip(train_size).take(val_size)\n",
    "test_ds = X_data_tf.skip(train_size).skip(val_size)"
   ]
  },
  {
   "cell_type": "code",
   "execution_count": 16,
   "metadata": {},
   "outputs": [],
   "source": [
    "# batching all the data\n",
    "train_ds = train_ds.batch(BATCH_SIZE).prefetch(tf.data.AUTOTUNE)\n",
    "val_ds = val_ds.batch(BATCH_SIZE).prefetch(tf.data.AUTOTUNE)\n",
    "test_ds = test_ds.batch(BATCH_SIZE)"
   ]
  },
  {
   "cell_type": "code",
   "execution_count": 17,
   "metadata": {},
   "outputs": [],
   "source": [
    "# create a FFNN model for BERT outputs\n",
    "inp = tf.keras.layers.Input(shape=(1536,))\n",
    "x = tf.keras.layers.Dense(128, activation='relu')(inp)\n",
    "x = tf.keras.layers.Dense(16, activation='relu')(x)\n",
    "out = tf.keras.layers.Dense(1, activation='relu')(x)\n",
    "\n",
    "model = tf.keras.Model(inputs=inp, outputs=out, name='DistilBERT_cls_Regression')"
   ]
  },
  {
   "cell_type": "code",
   "execution_count": 18,
   "metadata": {},
   "outputs": [
    {
     "name": "stdout",
     "output_type": "stream",
     "text": [
      "Model: \"DistilBERT_cls_Regression\"\n",
      "_________________________________________________________________\n",
      " Layer (type)                Output Shape              Param #   \n",
      "=================================================================\n",
      " input_1 (InputLayer)        [(None, 1536)]            0         \n",
      "                                                                 \n",
      " dense (Dense)               (None, 128)               196736    \n",
      "                                                                 \n",
      " dense_1 (Dense)             (None, 16)                2064      \n",
      "                                                                 \n",
      " dense_2 (Dense)             (None, 1)                 17        \n",
      "                                                                 \n",
      "=================================================================\n",
      "Total params: 198817 (776.63 KB)\n",
      "Trainable params: 198817 (776.63 KB)\n",
      "Non-trainable params: 0 (0.00 Byte)\n",
      "_________________________________________________________________\n"
     ]
    }
   ],
   "source": [
    "model.summary()"
   ]
  },
  {
   "cell_type": "code",
   "execution_count": 19,
   "metadata": {},
   "outputs": [],
   "source": [
    "# adam optimiser and mse loss are set\n",
    "model.compile(optimizer=keras.optimizers.Adam(\n",
    "        learning_rate=1e-7), loss='mse', metrics=['mae'])\n",
    "early_stopping = keras.callbacks.EarlyStopping(monitor='val_loss', patience=5, restore_best_weights=True)"
   ]
  },
  {
   "cell_type": "code",
   "execution_count": 26,
   "metadata": {},
   "outputs": [
    {
     "name": "stdout",
     "output_type": "stream",
     "text": [
      "Epoch 1/100\n",
      "16/16 [==============================] - 0s 4ms/step - loss: 1722.1125 - mae: 38.5240 - val_loss: 1788.5464 - val_mae: 37.5885\n",
      "Epoch 2/100\n",
      "16/16 [==============================] - 0s 4ms/step - loss: 1880.9321 - mae: 40.9411 - val_loss: 1193.3733 - val_mae: 29.2754\n",
      "Epoch 3/100\n",
      "16/16 [==============================] - 0s 4ms/step - loss: 1863.8683 - mae: 40.3657 - val_loss: 1590.4908 - val_mae: 37.2097\n",
      "Epoch 4/100\n",
      "16/16 [==============================] - 0s 4ms/step - loss: 1847.3567 - mae: 40.0635 - val_loss: 1826.1400 - val_mae: 37.3518\n",
      "Epoch 5/100\n",
      "16/16 [==============================] - 0s 4ms/step - loss: 1838.9460 - mae: 39.4951 - val_loss: 1428.5498 - val_mae: 31.4971\n",
      "Epoch 6/100\n",
      "16/16 [==============================] - 0s 3ms/step - loss: 1796.8872 - mae: 39.7094 - val_loss: 1915.9822 - val_mae: 37.7144\n",
      "Epoch 7/100\n",
      "16/16 [==============================] - 0s 5ms/step - loss: 1781.7428 - mae: 39.3613 - val_loss: 1548.7571 - val_mae: 35.0192\n"
     ]
    }
   ],
   "source": [
    "# train the model\n",
    "history = model.fit(\n",
    "    train_ds,\n",
    "    validation_data=val_ds,\n",
    "    epochs=100,callbacks=[early_stopping]\n",
    ")"
   ]
  },
  {
   "cell_type": "code",
   "execution_count": 27,
   "metadata": {},
   "outputs": [
    {
     "name": "stdout",
     "output_type": "stream",
     "text": [
      "5/5 [==============================] - 0s 3ms/step - loss: 1684.2865 - mae: 37.9078\n"
     ]
    },
    {
     "data": {
      "text/plain": [
       "[1684.2864990234375, 37.9078254699707]"
      ]
     },
     "execution_count": 27,
     "metadata": {},
     "output_type": "execute_result"
    }
   ],
   "source": [
    "model.evaluate(test_ds)\n"
   ]
  },
  {
   "cell_type": "code",
   "execution_count": 28,
   "metadata": {},
   "outputs": [
    {
     "name": "stdout",
     "output_type": "stream",
     "text": [
      "3/3 [==============================] - 0s 3ms/step - loss: 1511.3759 - mae: 35.2443\n"
     ]
    },
    {
     "data": {
      "text/plain": [
       "[1511.3758544921875, 35.244327545166016]"
      ]
     },
     "execution_count": 28,
     "metadata": {},
     "output_type": "execute_result"
    }
   ],
   "source": [
    "model.evaluate(val_ds)\n"
   ]
  },
  {
   "cell_type": "code",
   "execution_count": 29,
   "metadata": {},
   "outputs": [
    {
     "name": "stdout",
     "output_type": "stream",
     "text": [
      "16/16 [==============================] - 0s 2ms/step - loss: 1749.9338 - mae: 38.7084\n"
     ]
    },
    {
     "data": {
      "text/plain": [
       "[1749.933837890625, 38.708404541015625]"
      ]
     },
     "execution_count": 29,
     "metadata": {},
     "output_type": "execute_result"
    }
   ],
   "source": [
    "model.evaluate(train_ds)"
   ]
  },
  {
   "cell_type": "markdown",
   "metadata": {},
   "source": [
    "##### Predictions"
   ]
  },
  {
   "cell_type": "code",
   "execution_count": 30,
   "metadata": {},
   "outputs": [],
   "source": [
    "jd = pdf2Text('../data/dataset/Job description.pdf')\n",
    "jd_encoded = tokenizer.encode(jd, max_length=300, padding='max_length', truncation=True)\n",
    "resume = pdf2Text('../data/dataset/trainResumes/' + 'candidate_037' + '.pdf')\n",
    "resume_encoded = tokenizer.encode(resume, max_length=300, padding='max_length', truncation=True)\n",
    "jd_cls = distilbert_model(np.array([jd_encoded])).last_hidden_state[0][0]\n",
    "resume_cls = distilbert_model(np.array([resume_encoded])).last_hidden_state[0][0]\n",
    "data = tf.concat(axis=0, values = [jd_cls, resume_cls])\n",
    "data_batch = tf.expand_dims(data, axis=0)"
   ]
  },
  {
   "cell_type": "code",
   "execution_count": 31,
   "metadata": {},
   "outputs": [
    {
     "name": "stdout",
     "output_type": "stream",
     "text": [
      "1/1 [==============================] - 0s 16ms/step\n"
     ]
    },
    {
     "data": {
      "text/plain": [
       "array([[0.5083806]], dtype=float32)"
      ]
     },
     "execution_count": 31,
     "metadata": {},
     "output_type": "execute_result"
    }
   ],
   "source": [
    "model.predict(data_batch)"
   ]
  },
  {
   "cell_type": "code",
   "execution_count": 55,
   "metadata": {},
   "outputs": [
    {
     "name": "stdout",
     "output_type": "stream",
     "text": [
      "INFO:tensorflow:Assets written to: ../data/models/bert_2024-01-29 10:24:43.812566/assets\n"
     ]
    },
    {
     "name": "stderr",
     "output_type": "stream",
     "text": [
      "INFO:tensorflow:Assets written to: ../data/models/bert_2024-01-29 10:24:43.812566/assets\n"
     ]
    }
   ],
   "source": [
    "from datetime import datetime\n",
    "import os\n",
    "\n",
    "def save_model(model,path,_type):\n",
    "    time = str(datetime.now())\n",
    "    path = os.path.join(path,_type + \"_\" + time)\n",
    "    if not os.path.isdir(path):\n",
    "        os.mkdir(path)\n",
    "    model.save(path)\n",
    "    model.save_weights(path + '/weights/')\n",
    "\n",
    "path = '../data/models/'\n",
    "_type = 'bert'\n",
    "# save_model(model,path,_type)\n"
   ]
  },
  {
   "cell_type": "markdown",
   "metadata": {},
   "source": [
    "#### Feed Forward Neural Network"
   ]
  },
  {
   "cell_type": "code",
   "execution_count": 11,
   "metadata": {},
   "outputs": [
    {
     "name": "stderr",
     "output_type": "stream",
     "text": [
      "/usr/local/lib/python3.10/site-packages/tqdm/auto.py:21: TqdmWarning: IProgress not found. Please update jupyter and ipywidgets. See https://ipywidgets.readthedocs.io/en/stable/user_install.html\n",
      "  from .autonotebook import tqdm as notebook_tqdm\n",
      "/usr/local/lib/python3.10/site-packages/huggingface_hub/utils/_runtime.py:184: UserWarning: Pydantic is installed but cannot be imported. Please check your installation. `huggingface_hub` will default to not using Pydantic. Error message: '{e}'\n",
      "  warnings.warn(\n",
      "2024-01-30 09:39:30.260921: I tensorflow/core/util/port.cc:110] oneDNN custom operations are on. You may see slightly different numerical results due to floating-point round-off errors from different computation orders. To turn them off, set the environment variable `TF_ENABLE_ONEDNN_OPTS=0`.\n",
      "2024-01-30 09:39:30.274028: I tensorflow/tsl/cuda/cudart_stub.cc:28] Could not find cuda drivers on your machine, GPU will not be used.\n",
      "2024-01-30 09:39:30.389635: I tensorflow/tsl/cuda/cudart_stub.cc:28] Could not find cuda drivers on your machine, GPU will not be used.\n",
      "2024-01-30 09:39:30.391029: I tensorflow/core/platform/cpu_feature_guard.cc:182] This TensorFlow binary is optimized to use available CPU instructions in performance-critical operations.\n",
      "To enable the following instructions: AVX2 AVX_VNNI FMA, in other operations, rebuild TensorFlow with the appropriate compiler flags.\n",
      "2024-01-30 09:39:31.148313: W tensorflow/compiler/tf2tensorrt/utils/py_utils.cc:38] TF-TRT Warning: Could not find TensorRT\n"
     ]
    }
   ],
   "source": [
    "# imports\n",
    "from transformers import DistilBertTokenizer, TFDistilBertModel\n",
    "import tensorflow as tf\n",
    "from tensorflow import keras\n",
    "from tensorflow.keras import layers\n",
    "import numpy as np\n",
    "import pandas as pd\n",
    "import pdfplumber\n",
    "import random\n",
    "import matplotlib.pyplot as plt\n",
    "import seaborn as sns\n",
    "from sklearn.preprocessing import StandardScaler\n",
    "from sklearn.model_selection import train_test_split\n",
    "from sklearn.feature_selection import SequentialFeatureSelector\n",
    "from sklearn.linear_model import LinearRegression\n",
    "from prettytable import PrettyTable\n",
    "import spacy\n",
    "nlp = spacy.load('en_core_web_sm')"
   ]
  },
  {
   "cell_type": "code",
   "execution_count": 168,
   "metadata": {},
   "outputs": [],
   "source": [
    "csvData = pd.read_csv('../data/dataset/train.csv')\n",
    "# preprocess all resumes\n",
    "resumes = []\n",
    "for candidateID in csvData.CandidateID.values:  \n",
    "    # load resume pdf\n",
    "    resume = pdf2Text('../data/dataset/trainResumes/'+candidateID+'.pdf')\n",
    "    # preprocess\n",
    "    resume_processed = preprocess_text(resume, removeStopWords=True)\n",
    "    resumes.append(resume_processed)"
   ]
  },
  {
   "cell_type": "code",
   "execution_count": 229,
   "metadata": {},
   "outputs": [
    {
     "name": "stdout",
     "output_type": "stream",
     "text": [
      "(90, 13)\n",
      "(90, 15)\n",
      "(90, 640)\n",
      "(90, 640)\n",
      "(90, 15)\n"
     ]
    }
   ],
   "source": [
    "# \n",
    "data = pd.DataFrame({'job_description': [jd_processed]*len(csvData), 'processed_resume': resumes, 'match_percentage': csvData['Match Percentage']})\n",
    "\n",
    "def cosine_euclidean(u, v):\n",
    "    return np.array([np.dot(u, v) / (np.linalg.norm(u) * np.linalg.norm(v)), np.linalg.norm(u - v)])\n",
    "\n",
    "reputed_colleges = ['bits', 'iit', 'bhu', 'nit', 'vit', 'anna', 'jadavpur', 'tiet', 'thapar', 'iisc', 'srm', 'dtu', 'iiit']\n",
    "data_feature = feature_extract(data)\n",
    "data_feature.drop(columns=['common_word_ratio', 'common_word_ratio_max'], inplace=True)\n",
    "print(data_feature.shape)\n",
    "vectorizer = CountVectorizer(ngram_range=(1,3), min_df=4, max_df=.99, binary=True)\n",
    "vocab_text = np.unique(np.append(data_feature.processed_resume.values, data_feature.job_description.values))\n",
    "vectorizer.fit(vocab_text)\n",
    "bow_vocab = np.array(list(vectorizer.vocabulary_.keys()))\n",
    "bow_resume = vectorizer.transform(data_feature.processed_resume.values).toarray()\n",
    "bow_jd = vectorizer.transform(data_feature.job_description.values).toarray()\n",
    "cosine_euclidean_data = np.array([cosine_euclidean(bow_jd[i], bow_resume[i]) for i in range(len(bow_resume))])\n",
    "data_feature[[\"cosine_similarity\", \"euclidean_distance\"]] = cosine_euclidean_data\n",
    "print(data_feature.shape)\n",
    "print(bow_resume.shape)\n",
    "print(bow_jd.shape)\n",
    "\n",
    "# data_feature.to_csv('data_feature.csv', index=False)\n",
    "\n",
    "# with open('bow_vocab.npy', 'wb') as f:\n",
    "#     np.save(f, bow_vocab, allow_pickle=True)\n",
    "# with open('bow_resume.npy', 'wb') as f:\n",
    "#     np.save(f, bow_resume, allow_pickle=True)\n",
    "# with open('bow_jd.npy', 'wb') as f:\n",
    "#     np.save(f, bow_jd, allow_pickle=True)\n",
    "\n",
    "data_feature = pd.read_csv('data_feature.csv')\n",
    "print(data_feature.shape)\n",
    "\n",
    "# load bow_resume   \n",
    "with open('bow_resume.npy', 'rb') as f:\n",
    "    bow_resume = np.load(f, allow_pickle=True)\n",
    "\n",
    "# load bow_jd\n",
    "with open('bow_jd.npy', 'rb') as f:\n",
    "    bow_jd = np.load(f, allow_pickle=True)\n",
    "\n",
    "y_bow = data_feature.match_percentage"
   ]
  },
  {
   "cell_type": "code",
   "execution_count": 230,
   "metadata": {},
   "outputs": [
    {
     "name": "stdout",
     "output_type": "stream",
     "text": [
      "(90, 12)\n",
      "(90, 640)\n",
      "(90, 640)\n",
      "(90, 1292)\n",
      "Training data size 70% : 63\n",
      "Test data size 30% : 27\n"
     ]
    }
   ],
   "source": [
    "# create_dataset\n",
    "\n",
    "X_bow_1 = data_feature.drop(columns=['job_description', 'processed_resume', 'match_percentage'])\n",
    "X_bow_2 = pd.DataFrame(bow_jd, columns=['bow_jd_'+str(i) for i in range(1, bow_jd.shape[1]+1)])\n",
    "X_bow_3 = pd.DataFrame(bow_resume, columns=['bow_resume_'+str(i) for i in range(1, bow_resume.shape[1]+1)])\n",
    "print(X_bow_1.shape)\n",
    "print(X_bow_2.shape)\n",
    "print(X_bow_3.shape)\n",
    "X_bow = pd.concat([X_bow_1, X_bow_2, X_bow_3], axis=1)\n",
    "print(X_bow.shape)\n",
    "y_bow = data_feature.match_percentage\n",
    "features = X_bow.columns.to_numpy()\n",
    "y_bow = y_bow.to_numpy()\n",
    "# do train test split\n",
    "X_train_bow, X_test_bow, y_train_bow, y_test_bow = train_test_split(X_bow, y_bow, test_size=0.30, random_state=1)\n",
    "# get train and test indices\n",
    "train_indices = X_train_bow.index\n",
    "test_indices = X_test_bow.index\n",
    "print('Training data size 70% : '+str(len(X_train_bow)))\n",
    "print('Test data size 30% : '+str(len(X_test_bow)))"
   ]
  },
  {
   "cell_type": "code",
   "execution_count": 231,
   "metadata": {},
   "outputs": [
    {
     "data": {
      "text/html": [
       "<div>\n",
       "<style scoped>\n",
       "    .dataframe tbody tr th:only-of-type {\n",
       "        vertical-align: middle;\n",
       "    }\n",
       "\n",
       "    .dataframe tbody tr th {\n",
       "        vertical-align: top;\n",
       "    }\n",
       "\n",
       "    .dataframe thead th {\n",
       "        text-align: right;\n",
       "    }\n",
       "</style>\n",
       "<table border=\"1\" class=\"dataframe\">\n",
       "  <thead>\n",
       "    <tr style=\"text-align: right;\">\n",
       "      <th></th>\n",
       "      <th>bow_jd_1</th>\n",
       "      <th>bow_jd_2</th>\n",
       "      <th>bow_jd_3</th>\n",
       "      <th>bow_jd_4</th>\n",
       "      <th>bow_jd_5</th>\n",
       "      <th>bow_jd_6</th>\n",
       "      <th>bow_jd_7</th>\n",
       "      <th>bow_jd_8</th>\n",
       "      <th>bow_jd_9</th>\n",
       "      <th>bow_jd_10</th>\n",
       "      <th>...</th>\n",
       "      <th>bow_jd_631</th>\n",
       "      <th>bow_jd_632</th>\n",
       "      <th>bow_jd_633</th>\n",
       "      <th>bow_jd_634</th>\n",
       "      <th>bow_jd_635</th>\n",
       "      <th>bow_jd_636</th>\n",
       "      <th>bow_jd_637</th>\n",
       "      <th>bow_jd_638</th>\n",
       "      <th>bow_jd_639</th>\n",
       "      <th>bow_jd_640</th>\n",
       "    </tr>\n",
       "  </thead>\n",
       "  <tbody>\n",
       "    <tr>\n",
       "      <th>0</th>\n",
       "      <td>0</td>\n",
       "      <td>0</td>\n",
       "      <td>0</td>\n",
       "      <td>0</td>\n",
       "      <td>0</td>\n",
       "      <td>0</td>\n",
       "      <td>0</td>\n",
       "      <td>0</td>\n",
       "      <td>0</td>\n",
       "      <td>0</td>\n",
       "      <td>...</td>\n",
       "      <td>0</td>\n",
       "      <td>0</td>\n",
       "      <td>1</td>\n",
       "      <td>0</td>\n",
       "      <td>0</td>\n",
       "      <td>0</td>\n",
       "      <td>1</td>\n",
       "      <td>0</td>\n",
       "      <td>0</td>\n",
       "      <td>1</td>\n",
       "    </tr>\n",
       "    <tr>\n",
       "      <th>1</th>\n",
       "      <td>0</td>\n",
       "      <td>0</td>\n",
       "      <td>0</td>\n",
       "      <td>0</td>\n",
       "      <td>0</td>\n",
       "      <td>0</td>\n",
       "      <td>0</td>\n",
       "      <td>0</td>\n",
       "      <td>0</td>\n",
       "      <td>0</td>\n",
       "      <td>...</td>\n",
       "      <td>0</td>\n",
       "      <td>0</td>\n",
       "      <td>1</td>\n",
       "      <td>0</td>\n",
       "      <td>0</td>\n",
       "      <td>0</td>\n",
       "      <td>1</td>\n",
       "      <td>0</td>\n",
       "      <td>0</td>\n",
       "      <td>1</td>\n",
       "    </tr>\n",
       "    <tr>\n",
       "      <th>2</th>\n",
       "      <td>0</td>\n",
       "      <td>0</td>\n",
       "      <td>0</td>\n",
       "      <td>0</td>\n",
       "      <td>0</td>\n",
       "      <td>0</td>\n",
       "      <td>0</td>\n",
       "      <td>0</td>\n",
       "      <td>0</td>\n",
       "      <td>0</td>\n",
       "      <td>...</td>\n",
       "      <td>0</td>\n",
       "      <td>0</td>\n",
       "      <td>1</td>\n",
       "      <td>0</td>\n",
       "      <td>0</td>\n",
       "      <td>0</td>\n",
       "      <td>1</td>\n",
       "      <td>0</td>\n",
       "      <td>0</td>\n",
       "      <td>1</td>\n",
       "    </tr>\n",
       "    <tr>\n",
       "      <th>3</th>\n",
       "      <td>0</td>\n",
       "      <td>0</td>\n",
       "      <td>0</td>\n",
       "      <td>0</td>\n",
       "      <td>0</td>\n",
       "      <td>0</td>\n",
       "      <td>0</td>\n",
       "      <td>0</td>\n",
       "      <td>0</td>\n",
       "      <td>0</td>\n",
       "      <td>...</td>\n",
       "      <td>0</td>\n",
       "      <td>0</td>\n",
       "      <td>1</td>\n",
       "      <td>0</td>\n",
       "      <td>0</td>\n",
       "      <td>0</td>\n",
       "      <td>1</td>\n",
       "      <td>0</td>\n",
       "      <td>0</td>\n",
       "      <td>1</td>\n",
       "    </tr>\n",
       "    <tr>\n",
       "      <th>4</th>\n",
       "      <td>0</td>\n",
       "      <td>0</td>\n",
       "      <td>0</td>\n",
       "      <td>0</td>\n",
       "      <td>0</td>\n",
       "      <td>0</td>\n",
       "      <td>0</td>\n",
       "      <td>0</td>\n",
       "      <td>0</td>\n",
       "      <td>0</td>\n",
       "      <td>...</td>\n",
       "      <td>0</td>\n",
       "      <td>0</td>\n",
       "      <td>1</td>\n",
       "      <td>0</td>\n",
       "      <td>0</td>\n",
       "      <td>0</td>\n",
       "      <td>1</td>\n",
       "      <td>0</td>\n",
       "      <td>0</td>\n",
       "      <td>1</td>\n",
       "    </tr>\n",
       "    <tr>\n",
       "      <th>...</th>\n",
       "      <td>...</td>\n",
       "      <td>...</td>\n",
       "      <td>...</td>\n",
       "      <td>...</td>\n",
       "      <td>...</td>\n",
       "      <td>...</td>\n",
       "      <td>...</td>\n",
       "      <td>...</td>\n",
       "      <td>...</td>\n",
       "      <td>...</td>\n",
       "      <td>...</td>\n",
       "      <td>...</td>\n",
       "      <td>...</td>\n",
       "      <td>...</td>\n",
       "      <td>...</td>\n",
       "      <td>...</td>\n",
       "      <td>...</td>\n",
       "      <td>...</td>\n",
       "      <td>...</td>\n",
       "      <td>...</td>\n",
       "      <td>...</td>\n",
       "    </tr>\n",
       "    <tr>\n",
       "      <th>85</th>\n",
       "      <td>0</td>\n",
       "      <td>0</td>\n",
       "      <td>0</td>\n",
       "      <td>0</td>\n",
       "      <td>0</td>\n",
       "      <td>0</td>\n",
       "      <td>0</td>\n",
       "      <td>0</td>\n",
       "      <td>0</td>\n",
       "      <td>0</td>\n",
       "      <td>...</td>\n",
       "      <td>0</td>\n",
       "      <td>0</td>\n",
       "      <td>1</td>\n",
       "      <td>0</td>\n",
       "      <td>0</td>\n",
       "      <td>0</td>\n",
       "      <td>1</td>\n",
       "      <td>0</td>\n",
       "      <td>0</td>\n",
       "      <td>1</td>\n",
       "    </tr>\n",
       "    <tr>\n",
       "      <th>86</th>\n",
       "      <td>0</td>\n",
       "      <td>0</td>\n",
       "      <td>0</td>\n",
       "      <td>0</td>\n",
       "      <td>0</td>\n",
       "      <td>0</td>\n",
       "      <td>0</td>\n",
       "      <td>0</td>\n",
       "      <td>0</td>\n",
       "      <td>0</td>\n",
       "      <td>...</td>\n",
       "      <td>0</td>\n",
       "      <td>0</td>\n",
       "      <td>1</td>\n",
       "      <td>0</td>\n",
       "      <td>0</td>\n",
       "      <td>0</td>\n",
       "      <td>1</td>\n",
       "      <td>0</td>\n",
       "      <td>0</td>\n",
       "      <td>1</td>\n",
       "    </tr>\n",
       "    <tr>\n",
       "      <th>87</th>\n",
       "      <td>0</td>\n",
       "      <td>0</td>\n",
       "      <td>0</td>\n",
       "      <td>0</td>\n",
       "      <td>0</td>\n",
       "      <td>0</td>\n",
       "      <td>0</td>\n",
       "      <td>0</td>\n",
       "      <td>0</td>\n",
       "      <td>0</td>\n",
       "      <td>...</td>\n",
       "      <td>0</td>\n",
       "      <td>0</td>\n",
       "      <td>1</td>\n",
       "      <td>0</td>\n",
       "      <td>0</td>\n",
       "      <td>0</td>\n",
       "      <td>1</td>\n",
       "      <td>0</td>\n",
       "      <td>0</td>\n",
       "      <td>1</td>\n",
       "    </tr>\n",
       "    <tr>\n",
       "      <th>88</th>\n",
       "      <td>0</td>\n",
       "      <td>0</td>\n",
       "      <td>0</td>\n",
       "      <td>0</td>\n",
       "      <td>0</td>\n",
       "      <td>0</td>\n",
       "      <td>0</td>\n",
       "      <td>0</td>\n",
       "      <td>0</td>\n",
       "      <td>0</td>\n",
       "      <td>...</td>\n",
       "      <td>0</td>\n",
       "      <td>0</td>\n",
       "      <td>1</td>\n",
       "      <td>0</td>\n",
       "      <td>0</td>\n",
       "      <td>0</td>\n",
       "      <td>1</td>\n",
       "      <td>0</td>\n",
       "      <td>0</td>\n",
       "      <td>1</td>\n",
       "    </tr>\n",
       "    <tr>\n",
       "      <th>89</th>\n",
       "      <td>0</td>\n",
       "      <td>0</td>\n",
       "      <td>0</td>\n",
       "      <td>0</td>\n",
       "      <td>0</td>\n",
       "      <td>0</td>\n",
       "      <td>0</td>\n",
       "      <td>0</td>\n",
       "      <td>0</td>\n",
       "      <td>0</td>\n",
       "      <td>...</td>\n",
       "      <td>0</td>\n",
       "      <td>0</td>\n",
       "      <td>1</td>\n",
       "      <td>0</td>\n",
       "      <td>0</td>\n",
       "      <td>0</td>\n",
       "      <td>1</td>\n",
       "      <td>0</td>\n",
       "      <td>0</td>\n",
       "      <td>1</td>\n",
       "    </tr>\n",
       "  </tbody>\n",
       "</table>\n",
       "<p>90 rows × 640 columns</p>\n",
       "</div>"
      ],
      "text/plain": [
       "    bow_jd_1  bow_jd_2  bow_jd_3  bow_jd_4  bow_jd_5  bow_jd_6  bow_jd_7  \\\n",
       "0          0         0         0         0         0         0         0   \n",
       "1          0         0         0         0         0         0         0   \n",
       "2          0         0         0         0         0         0         0   \n",
       "3          0         0         0         0         0         0         0   \n",
       "4          0         0         0         0         0         0         0   \n",
       "..       ...       ...       ...       ...       ...       ...       ...   \n",
       "85         0         0         0         0         0         0         0   \n",
       "86         0         0         0         0         0         0         0   \n",
       "87         0         0         0         0         0         0         0   \n",
       "88         0         0         0         0         0         0         0   \n",
       "89         0         0         0         0         0         0         0   \n",
       "\n",
       "    bow_jd_8  bow_jd_9  bow_jd_10  ...  bow_jd_631  bow_jd_632  bow_jd_633  \\\n",
       "0          0         0          0  ...           0           0           1   \n",
       "1          0         0          0  ...           0           0           1   \n",
       "2          0         0          0  ...           0           0           1   \n",
       "3          0         0          0  ...           0           0           1   \n",
       "4          0         0          0  ...           0           0           1   \n",
       "..       ...       ...        ...  ...         ...         ...         ...   \n",
       "85         0         0          0  ...           0           0           1   \n",
       "86         0         0          0  ...           0           0           1   \n",
       "87         0         0          0  ...           0           0           1   \n",
       "88         0         0          0  ...           0           0           1   \n",
       "89         0         0          0  ...           0           0           1   \n",
       "\n",
       "    bow_jd_634  bow_jd_635  bow_jd_636  bow_jd_637  bow_jd_638  bow_jd_639  \\\n",
       "0            0           0           0           1           0           0   \n",
       "1            0           0           0           1           0           0   \n",
       "2            0           0           0           1           0           0   \n",
       "3            0           0           0           1           0           0   \n",
       "4            0           0           0           1           0           0   \n",
       "..         ...         ...         ...         ...         ...         ...   \n",
       "85           0           0           0           1           0           0   \n",
       "86           0           0           0           1           0           0   \n",
       "87           0           0           0           1           0           0   \n",
       "88           0           0           0           1           0           0   \n",
       "89           0           0           0           1           0           0   \n",
       "\n",
       "    bow_jd_640  \n",
       "0            1  \n",
       "1            1  \n",
       "2            1  \n",
       "3            1  \n",
       "4            1  \n",
       "..         ...  \n",
       "85           1  \n",
       "86           1  \n",
       "87           1  \n",
       "88           1  \n",
       "89           1  \n",
       "\n",
       "[90 rows x 640 columns]"
      ]
     },
     "execution_count": 231,
     "metadata": {},
     "output_type": "execute_result"
    }
   ],
   "source": [
    "X_bow_2"
   ]
  },
  {
   "cell_type": "code",
   "execution_count": 171,
   "metadata": {},
   "outputs": [],
   "source": [
    "feature_selector = LinearRegression()\n",
    "sfs = SequentialFeatureSelector(feature_selector, n_features_to_select=100, direction='forward', cv=3)\n",
    "sfs.fit(StandardScaler().fit_transform(X_bow), y_bow)\n",
    "features = sfs.get_support()"
   ]
  },
  {
   "cell_type": "code",
   "execution_count": 172,
   "metadata": {},
   "outputs": [],
   "source": [
    "# with open('top_features_bow.npy', 'wb') as f:\n",
    "#     np.save(f, features, allow_pickle=True)"
   ]
  },
  {
   "cell_type": "code",
   "execution_count": 173,
   "metadata": {},
   "outputs": [],
   "source": [
    "with open('top_features_bow.npy', 'rb') as f:\n",
    "    features = np.load(f, allow_pickle=True)\n",
    "X_bow = X_bow.loc[:, features]"
   ]
  },
  {
   "cell_type": "code",
   "execution_count": 174,
   "metadata": {},
   "outputs": [],
   "source": [
    "X_train_bow, X_test_bow, y_train_bow, y_test_bow = train_test_split(X_bow, y_bow, test_size=0.30, random_state=1)\n",
    "# get train and test indices\n",
    "train_indices = X_train_bow.index\n",
    "test_indices = X_test_bow.index"
   ]
  },
  {
   "cell_type": "code",
   "execution_count": 175,
   "metadata": {},
   "outputs": [],
   "source": [
    "scaler = StandardScaler()\n",
    "scaler.fit(X_train_bow)\n",
    "X_train_bow = scaler.transform(X_train_bow)\n",
    "X_test_bow = scaler.transform(X_test_bow)"
   ]
  },
  {
   "cell_type": "code",
   "execution_count": 176,
   "metadata": {},
   "outputs": [],
   "source": [
    "# save bow_jd to file\n",
    "with open('X_train_bow.npy', 'wb') as f:\n",
    "    np.save(f, X_train_bow, allow_pickle=True)\n",
    "with open('y_train_bow.npy', 'wb') as f:\n",
    "    np.save(f, y_train_bow, allow_pickle=True)\n",
    "with open('X_test_bow.npy', 'wb') as f:\n",
    "    np.save(f, X_test_bow, allow_pickle=True)\n",
    "with open('y_test_bow.npy', 'wb') as f:\n",
    "    np.save(f, y_test_bow, allow_pickle=True)"
   ]
  },
  {
   "cell_type": "code",
   "execution_count": 177,
   "metadata": {},
   "outputs": [],
   "source": [
    "def cosine_euclidean(u, v):\n",
    "    return np.array([np.dot(u, v) / (np.linalg.norm(u) * np.linalg.norm(v)), np.linalg.norm(u - v)])\n",
    "\n",
    "\n",
    "def getAverageWord2Vec(sentence,w2v_words,w2v_model):\n",
    "    ''' get Average Word2Vec given a sentence'''\n",
    "    # initialize sentence_vector to zeros\n",
    "    sentence_vector = np.zeros(300)\n",
    "    # count words in sentence\n",
    "    count_words = 0\n",
    "    # loop over each word\n",
    "    for word in sentence.split():\n",
    "        # if there is a vector for given word\n",
    "        if word in w2v_words:\n",
    "            # get the vector\n",
    "            vector = w2v_model[word]\n",
    "            # add the vectors\n",
    "            sentence_vector = sentence_vector + vector\n",
    "            # increment count\n",
    "            count_words = count_words + 1\n",
    "    if count_words != 0:\n",
    "        # if the word count is not zero then divide by it to get the average\n",
    "        sentence_vector /= count_words\n",
    "    # return the avg word2vec\n",
    "    return sentence_vector"
   ]
  },
  {
   "cell_type": "code",
   "execution_count": 178,
   "metadata": {},
   "outputs": [
    {
     "name": "stderr",
     "output_type": "stream",
     "text": [
      "100%|██████████| 90/90 [00:20<00:00,  4.35it/s]\n"
     ]
    },
    {
     "name": "stdout",
     "output_type": "stream",
     "text": [
      "(90, 300)\n"
     ]
    },
    {
     "name": "stderr",
     "output_type": "stream",
     "text": [
      "100%|██████████| 90/90 [00:44<00:00,  2.00it/s]\n"
     ]
    }
   ],
   "source": [
    "# # # Average Word2Vec\n",
    "\n",
    "data_feature2 = data_feature.drop(columns=['cosine_similarity', 'euclidean_distance'])\n",
    "w2v_model = KeyedVectors.load_word2vec_format('../data/GoogleNews-vectors-negative300.bin', binary=True)\n",
    "w2v_words = list(w2v_model.key_to_index)\n",
    "\n",
    "# get average word2vec for resumes\n",
    "w2v_resume = []\n",
    "# used tqdm to print progress bar\n",
    "for sentence in tqdm(data_feature2.processed_resume.values):\n",
    "    # get and append sentence vectors\n",
    "    w2v_resume.append(getAverageWord2Vec(sentence,w2v_words,w2v_model))\n",
    "\n",
    "# convert to numpy array\n",
    "w2v_resume = np.array(w2v_resume)\n",
    "print(w2v_resume.shape)\n",
    "# get average word2vec for job description\n",
    "w2v_jd = []\n",
    "for sentence in tqdm(data_feature2.job_description.values):\n",
    "    # get and append sentence vectors\n",
    "    w2v_jd.append(getAverageWord2Vec(sentence,w2v_words,w2v_model))\n",
    "\n",
    "# convert to numpy array\n",
    "w2v_jd = np.array(w2v_jd)\n",
    "cosine_euclidean_data = np.array([cosine_euclidean(w2v_jd[i], w2v_resume[i]) for i in range(len(w2v_resume))])\n",
    "\n",
    "data_feature2[[\"cosine_similarity\", \"euclidean_distance\"]] = cosine_euclidean_data\n",
    "# data_feature2.to_csv('data_feature2.csv', index=False)\n",
    "\n",
    "# # save w2v_resume to file\n",
    "# with open('w2v_resume.npy', 'wb') as f:\n",
    "#     np.save(f, w2v_resume, allow_pickle=True)\n",
    "\n",
    "# with open('w2v_jd.npy', 'wb') as f:\n",
    "#     np.save(f, w2v_jd, allow_pickle=True)\n",
    "\n",
    "data_feature2 = pd.read_csv('data_feature2.csv')\n",
    "\n",
    "with open('w2v_resume.npy', 'rb') as f:\n",
    "    w2v_resume = np.load(f, allow_pickle=True)\n",
    "\n",
    "with open('w2v_jd.npy', 'rb') as f:\n",
    "    w2v_jd = np.load(f, allow_pickle=True)\n",
    "\n",
    "y_w2v = data_feature2.match_percentage"
   ]
  },
  {
   "cell_type": "code",
   "execution_count": 179,
   "metadata": {},
   "outputs": [
    {
     "name": "stdout",
     "output_type": "stream",
     "text": [
      "(90, 612)\n",
      "Training data size 70% : 63\n",
      "Test data size 30% : 27\n"
     ]
    }
   ],
   "source": [
    "# create_dataset\n",
    "X_w2v_1 = data_feature2.drop(columns=['job_description', 'processed_resume', 'match_percentage'])\n",
    "X_w2v_2 = pd.DataFrame(w2v_jd, columns=['w2v_jd_'+str(i) for i in range(1, w2v_jd.shape[1]+1)])\n",
    "X_w2v_3 = pd.DataFrame(w2v_resume, columns=['w2v_resume_'+str(i) for i in range(1, w2v_resume.shape[1]+1)])\n",
    "X_w2v = pd.concat([X_w2v_1, X_w2v_2, X_w2v_3], axis=1)\n",
    "print(X_w2v.shape)  \n",
    "y_w2v = data_feature2.match_percentage\n",
    "features = X_w2v.columns.to_numpy()\n",
    "y_w2v = y_w2v.to_numpy()\n",
    "# do train test split\n",
    "X_train_w2v, X_test_w2v, y_train_w2v, y_test_w2v = train_test_split(X_w2v, y_w2v, test_size=0.30, random_state=1)\n",
    "# get train and test indices\n",
    "train_indices = X_train_w2v.index\n",
    "test_indices = X_test_w2v.index\n",
    "print('Training data size 70% : '+str(len(X_train_w2v)))\n",
    "print('Test data size 30% : '+str(len(X_test_w2v)))"
   ]
  },
  {
   "cell_type": "code",
   "execution_count": 180,
   "metadata": {},
   "outputs": [],
   "source": [
    "from sklearn.svm import SVR\n",
    "from sklearn.linear_model import Lasso, Ridge\n",
    "feature_selector = Ridge(alpha = 88.197, max_iter=3000)\n",
    "sfs = SequentialFeatureSelector(feature_selector, n_features_to_select=200, direction='forward', cv=3)\n",
    "sfs.fit(StandardScaler().fit_transform(X_w2v), y_w2v)\n",
    "features = X_w2v.columns[sfs.get_support()]\n"
   ]
  },
  {
   "cell_type": "code",
   "execution_count": 181,
   "metadata": {},
   "outputs": [],
   "source": [
    "# with open('top_features_w2v.npy', 'wb') as f:\n",
    "#     np.save(f, features, allow_pickle=True)"
   ]
  },
  {
   "cell_type": "code",
   "execution_count": 182,
   "metadata": {},
   "outputs": [],
   "source": [
    "with open('top_features_w2v.npy', 'rb') as f:\n",
    "    features = np.load(f, allow_pickle=True)\n",
    "X_w2v = X_w2v[features]"
   ]
  },
  {
   "cell_type": "code",
   "execution_count": 183,
   "metadata": {},
   "outputs": [],
   "source": [
    "X_train_w2v, X_test_w2v, y_train_w2v, y_test_w2v = train_test_split(X_w2v, y_w2v, test_size=0.30, random_state=1)\n",
    "# get train and test indices\n",
    "train_indices = X_train_w2v.index\n",
    "test_indices = X_test_w2v.index"
   ]
  },
  {
   "cell_type": "code",
   "execution_count": 184,
   "metadata": {},
   "outputs": [],
   "source": [
    "scaler = StandardScaler()\n",
    "scaler.fit(X_train_w2v)\n",
    "X_train_w2v = scaler.transform(X_train_w2v)\n",
    "X_test_w2v = scaler.transform(X_test_w2v)"
   ]
  },
  {
   "cell_type": "code",
   "execution_count": 185,
   "metadata": {},
   "outputs": [],
   "source": [
    "# save bow_jd to file\n",
    "with open('X_train_w2v.npy', 'wb') as f:\n",
    "    np.save(f, X_train_w2v, allow_pickle=True)\n",
    "with open('y_train_w2v.npy', 'wb') as f:\n",
    "    np.save(f, y_train_w2v, allow_pickle=True)\n",
    "with open('X_test_w2v.npy', 'wb') as f:\n",
    "    np.save(f, X_test_w2v, allow_pickle=True)\n",
    "with open('y_test_w2v.npy', 'wb') as f:\n",
    "    np.save(f, y_test_bow, allow_pickle=True)"
   ]
  },
  {
   "cell_type": "markdown",
   "metadata": {},
   "source": [
    "#### Train"
   ]
  },
  {
   "cell_type": "code",
   "execution_count": 187,
   "metadata": {},
   "outputs": [],
   "source": [
    "# load all the data\n",
    "with open('X_train_bow.npy', 'rb') as f1, open('X_train_w2v.npy', 'rb') as f2:\n",
    "    X_train = np.concatenate((np.load(f1, allow_pickle=True), np.load(f2, allow_pickle=True)), axis=1)\n",
    "with open('X_test_bow.npy', 'rb') as f1, open('X_test_w2v.npy', 'rb') as f2:\n",
    "    X_test = np.concatenate((np.load(f1, allow_pickle=True), np.load(f2, allow_pickle=True)), axis=1)\n",
    "with open('y_train_bow.npy', 'rb') as f:\n",
    "    y_train = np.load(f, allow_pickle=True)\n",
    "with open('y_test_bow.npy', 'rb') as f:\n",
    "    y_test = np.load(f, allow_pickle=True)"
   ]
  },
  {
   "cell_type": "code",
   "execution_count": 188,
   "metadata": {},
   "outputs": [
    {
     "name": "stdout",
     "output_type": "stream",
     "text": [
      "(53, 300)\n",
      "(10, 300)\n",
      "(27, 300)\n"
     ]
    }
   ],
   "source": [
    "X_train, X_cv, y_train, y_cv = train_test_split(X_train, y_train, test_size=.15, random_state=13)\n",
    "print(X_train.shape)\n",
    "print(X_cv.shape)\n",
    "print(X_test.shape)"
   ]
  },
  {
   "cell_type": "code",
   "execution_count": 189,
   "metadata": {},
   "outputs": [],
   "source": [
    "BATCH_SIZE = 20\n",
    "\n",
    "# create input-output pair and batch the data.\n",
    "X_train_data = tf.data.Dataset \\\n",
    "                .from_tensor_slices((X_train, y_train)) \\\n",
    "                .batch(BATCH_SIZE).prefetch(tf.data.AUTOTUNE)\n",
    "X_cv_data = tf.data.Dataset \\\n",
    "                .from_tensor_slices((X_cv, y_cv)) \\\n",
    "                .batch(BATCH_SIZE).prefetch(tf.data.AUTOTUNE)\n",
    "X_test_data = tf.data.Dataset \\\n",
    "                .from_tensor_slices((X_test, y_test)) \\\n",
    "                .batch(BATCH_SIZE).prefetch(tf.data.AUTOTUNE)"
   ]
  },
  {
   "cell_type": "code",
   "execution_count": 190,
   "metadata": {},
   "outputs": [],
   "source": [
    "# create simple FFNN with TF2 functional API\n",
    "inp = layers.Input(shape=(300,))\n",
    "x = layers.Dense(128, activation='relu')(inp)\n",
    "x = layers.Dense(16, activation='relu')(x)\n",
    "out = layers.Dense(1, activation='relu')(x)\n",
    "model = keras.Model(inputs=inp, outputs=out, name='Bow_avgW2V_Regression')"
   ]
  },
  {
   "cell_type": "code",
   "execution_count": 191,
   "metadata": {},
   "outputs": [
    {
     "name": "stdout",
     "output_type": "stream",
     "text": [
      "Model: \"Bow_avgW2V_Regression\"\n",
      "_________________________________________________________________\n",
      " Layer (type)                Output Shape              Param #   \n",
      "=================================================================\n",
      " input_2 (InputLayer)        [(None, 300)]             0         \n",
      "                                                                 \n",
      " dense_3 (Dense)             (None, 128)               38528     \n",
      "                                                                 \n",
      " dense_4 (Dense)             (None, 16)                2064      \n",
      "                                                                 \n",
      " dense_5 (Dense)             (None, 1)                 17        \n",
      "                                                                 \n",
      "=================================================================\n",
      "Total params: 40609 (158.63 KB)\n",
      "Trainable params: 40609 (158.63 KB)\n",
      "Non-trainable params: 0 (0.00 Byte)\n",
      "_________________________________________________________________\n"
     ]
    }
   ],
   "source": [
    "model.summary()"
   ]
  },
  {
   "cell_type": "code",
   "execution_count": 192,
   "metadata": {},
   "outputs": [
    {
     "name": "stdout",
     "output_type": "stream",
     "text": [
      "Epoch 1/100\n"
     ]
    },
    {
     "name": "stdout",
     "output_type": "stream",
     "text": [
      "3/3 [==============================] - 0s 33ms/step - loss: 1881.1605 - mae: 40.5089 - val_loss: 1178.0804 - val_mae: 29.7309\n",
      "Epoch 2/100\n",
      "3/3 [==============================] - 0s 6ms/step - loss: 1829.4579 - mae: 39.9177 - val_loss: 1152.2412 - val_mae: 29.3556\n",
      "Epoch 3/100\n",
      "3/3 [==============================] - 0s 7ms/step - loss: 1783.6106 - mae: 39.3850 - val_loss: 1124.7748 - val_mae: 28.9602\n",
      "Epoch 4/100\n",
      "3/3 [==============================] - 0s 10ms/step - loss: 1737.4915 - mae: 38.8474 - val_loss: 1097.7457 - val_mae: 28.5698\n",
      "Epoch 5/100\n",
      "3/3 [==============================] - 0s 9ms/step - loss: 1690.3352 - mae: 38.2928 - val_loss: 1070.6637 - val_mae: 28.1788\n",
      "Epoch 6/100\n",
      "3/3 [==============================] - 0s 11ms/step - loss: 1640.2974 - mae: 37.7009 - val_loss: 1044.1085 - val_mae: 27.7950\n",
      "Epoch 7/100\n",
      "3/3 [==============================] - 0s 13ms/step - loss: 1586.9259 - mae: 37.0603 - val_loss: 1016.7621 - val_mae: 27.3930\n",
      "Epoch 8/100\n",
      "3/3 [==============================] - 0s 8ms/step - loss: 1528.9534 - mae: 36.3568 - val_loss: 988.4635 - val_mae: 26.9725\n",
      "Epoch 9/100\n",
      "3/3 [==============================] - 0s 6ms/step - loss: 1466.5404 - mae: 35.5894 - val_loss: 959.4108 - val_mae: 26.5405\n",
      "Epoch 10/100\n",
      "3/3 [==============================] - 0s 11ms/step - loss: 1398.8977 - mae: 34.7422 - val_loss: 928.6812 - val_mae: 26.0833\n",
      "Epoch 11/100\n",
      "3/3 [==============================] - 0s 7ms/step - loss: 1325.6096 - mae: 33.8047 - val_loss: 896.2306 - val_mae: 25.6016\n",
      "Epoch 12/100\n",
      "3/3 [==============================] - 0s 5ms/step - loss: 1246.4320 - mae: 32.7657 - val_loss: 862.1834 - val_mae: 25.0923\n",
      "Epoch 13/100\n",
      "3/3 [==============================] - 0s 6ms/step - loss: 1162.0476 - mae: 31.6246 - val_loss: 826.8345 - val_mae: 24.5544\n",
      "Epoch 14/100\n",
      "3/3 [==============================] - 0s 9ms/step - loss: 1072.6676 - mae: 30.3701 - val_loss: 789.9477 - val_mae: 23.9797\n",
      "Epoch 15/100\n",
      "3/3 [==============================] - 0s 9ms/step - loss: 979.0817 - mae: 28.9970 - val_loss: 751.7062 - val_mae: 23.3645\n",
      "Epoch 16/100\n",
      "3/3 [==============================] - 0s 10ms/step - loss: 882.4247 - mae: 27.5024 - val_loss: 712.6146 - val_mae: 22.7188\n",
      "Epoch 17/100\n",
      "3/3 [==============================] - 0s 5ms/step - loss: 784.1553 - mae: 25.8856 - val_loss: 672.8936 - val_mae: 22.0428\n",
      "Epoch 18/100\n",
      "3/3 [==============================] - 0s 8ms/step - loss: 685.8264 - mae: 24.1465 - val_loss: 632.6710 - val_mae: 21.3355\n",
      "Epoch 19/100\n",
      "3/3 [==============================] - 0s 10ms/step - loss: 589.3434 - mae: 22.2909 - val_loss: 592.1774 - val_mae: 20.5950\n",
      "Epoch 20/100\n",
      "3/3 [==============================] - 0s 8ms/step - loss: 496.9522 - mae: 20.3303 - val_loss: 551.9522 - val_mae: 19.8266\n",
      "Epoch 21/100\n",
      "3/3 [==============================] - 0s 5ms/step - loss: 410.6887 - mae: 18.2795 - val_loss: 512.2638 - val_mae: 19.0228\n",
      "Epoch 22/100\n",
      "3/3 [==============================] - 0s 12ms/step - loss: 332.4942 - mae: 16.1679 - val_loss: 473.8011 - val_mae: 18.1983\n",
      "Epoch 23/100\n",
      "3/3 [==============================] - 0s 11ms/step - loss: 264.1797 - mae: 14.0576 - val_loss: 437.0873 - val_mae: 17.3611\n",
      "Epoch 24/100\n",
      "3/3 [==============================] - 0s 20ms/step - loss: 206.7152 - mae: 12.1257 - val_loss: 402.4127 - val_mae: 16.5167\n",
      "Epoch 25/100\n",
      "3/3 [==============================] - 0s 19ms/step - loss: 160.2480 - mae: 10.4847 - val_loss: 370.4363 - val_mae: 15.6825\n",
      "Epoch 26/100\n",
      "3/3 [==============================] - 0s 13ms/step - loss: 124.1626 - mae: 9.3209 - val_loss: 341.4715 - val_mae: 14.8919\n",
      "Epoch 27/100\n",
      "3/3 [==============================] - 0s 8ms/step - loss: 97.0614 - mae: 8.3206 - val_loss: 315.8083 - val_mae: 14.1871\n",
      "Epoch 28/100\n",
      "3/3 [==============================] - 0s 6ms/step - loss: 77.1373 - mae: 7.3562 - val_loss: 293.6082 - val_mae: 13.5635\n",
      "Epoch 29/100\n",
      "3/3 [==============================] - 0s 14ms/step - loss: 62.5514 - mae: 6.4322 - val_loss: 274.8494 - val_mae: 13.1499\n",
      "Epoch 30/100\n",
      "3/3 [==============================] - 0s 18ms/step - loss: 51.6693 - mae: 5.7011 - val_loss: 259.3952 - val_mae: 12.8081\n",
      "Epoch 31/100\n",
      "3/3 [==============================] - 0s 9ms/step - loss: 43.2391 - mae: 5.1820 - val_loss: 247.0959 - val_mae: 12.5379\n",
      "Epoch 32/100\n",
      "3/3 [==============================] - 0s 12ms/step - loss: 36.4492 - mae: 4.8015 - val_loss: 237.5566 - val_mae: 12.3271\n",
      "Epoch 33/100\n",
      "3/3 [==============================] - 0s 9ms/step - loss: 30.7942 - mae: 4.4532 - val_loss: 230.2384 - val_mae: 12.1637\n",
      "Epoch 34/100\n",
      "3/3 [==============================] - 0s 8ms/step - loss: 26.0089 - mae: 4.1687 - val_loss: 224.7986 - val_mae: 12.0380\n",
      "Epoch 35/100\n",
      "3/3 [==============================] - 0s 11ms/step - loss: 21.9484 - mae: 3.8699 - val_loss: 220.8962 - val_mae: 11.9419\n",
      "Epoch 36/100\n",
      "3/3 [==============================] - 0s 13ms/step - loss: 18.5120 - mae: 3.5633 - val_loss: 218.2213 - val_mae: 11.8651\n",
      "Epoch 37/100\n",
      "3/3 [==============================] - 0s 7ms/step - loss: 15.6070 - mae: 3.2666 - val_loss: 216.4751 - val_mae: 11.8012\n",
      "Epoch 38/100\n",
      "3/3 [==============================] - 0s 10ms/step - loss: 13.1602 - mae: 2.9773 - val_loss: 215.3388 - val_mae: 11.7432\n",
      "Epoch 39/100\n",
      "3/3 [==============================] - 0s 11ms/step - loss: 11.1002 - mae: 2.7022 - val_loss: 214.5823 - val_mae: 11.6867\n",
      "Epoch 40/100\n",
      "3/3 [==============================] - 0s 12ms/step - loss: 9.3708 - mae: 2.4536 - val_loss: 214.0232 - val_mae: 11.6292\n",
      "Epoch 41/100\n",
      "3/3 [==============================] - 0s 7ms/step - loss: 7.9217 - mae: 2.2341 - val_loss: 213.5330 - val_mae: 11.5696\n",
      "Epoch 42/100\n",
      "3/3 [==============================] - 0s 14ms/step - loss: 6.7039 - mae: 2.0335 - val_loss: 213.0256 - val_mae: 11.5085\n",
      "Epoch 43/100\n",
      "3/3 [==============================] - 0s 10ms/step - loss: 5.6800 - mae: 1.8616 - val_loss: 212.4555 - val_mae: 11.4473\n",
      "Epoch 44/100\n",
      "3/3 [==============================] - 0s 15ms/step - loss: 4.8231 - mae: 1.7223 - val_loss: 211.7997 - val_mae: 11.3864\n",
      "Epoch 45/100\n",
      "3/3 [==============================] - 0s 13ms/step - loss: 4.1029 - mae: 1.5926 - val_loss: 211.0666 - val_mae: 11.3280\n",
      "Epoch 46/100\n",
      "3/3 [==============================] - 0s 15ms/step - loss: 3.4969 - mae: 1.4742 - val_loss: 210.2581 - val_mae: 11.2730\n",
      "Epoch 47/100\n",
      "3/3 [==============================] - 0s 17ms/step - loss: 2.9833 - mae: 1.3676 - val_loss: 209.4137 - val_mae: 11.2228\n",
      "Epoch 48/100\n",
      "3/3 [==============================] - 0s 9ms/step - loss: 2.5443 - mae: 1.2644 - val_loss: 208.5650 - val_mae: 11.1784\n",
      "Epoch 49/100\n",
      "3/3 [==============================] - 0s 9ms/step - loss: 2.1686 - mae: 1.1672 - val_loss: 207.7518 - val_mae: 11.1405\n",
      "Epoch 50/100\n",
      "3/3 [==============================] - 0s 11ms/step - loss: 1.8469 - mae: 1.0751 - val_loss: 207.0031 - val_mae: 11.1090\n",
      "Epoch 51/100\n",
      "3/3 [==============================] - 0s 30ms/step - loss: 1.5728 - mae: 0.9918 - val_loss: 206.3202 - val_mae: 11.0836\n",
      "Epoch 52/100\n",
      "3/3 [==============================] - 0s 14ms/step - loss: 1.3406 - mae: 0.9161 - val_loss: 205.7211 - val_mae: 11.0633\n",
      "Epoch 53/100\n",
      "3/3 [==============================] - 0s 7ms/step - loss: 1.1451 - mae: 0.8446 - val_loss: 205.2211 - val_mae: 11.0478\n",
      "Epoch 54/100\n",
      "3/3 [==============================] - 0s 8ms/step - loss: 0.9797 - mae: 0.7776 - val_loss: 204.8144 - val_mae: 11.0361\n",
      "Epoch 55/100\n",
      "3/3 [==============================] - 0s 8ms/step - loss: 0.8387 - mae: 0.7156 - val_loss: 204.4923 - val_mae: 11.0274\n",
      "Epoch 56/100\n",
      "3/3 [==============================] - 0s 13ms/step - loss: 0.7182 - mae: 0.6596 - val_loss: 204.2431 - val_mae: 11.0208\n",
      "Epoch 57/100\n",
      "3/3 [==============================] - 0s 12ms/step - loss: 0.6149 - mae: 0.6067 - val_loss: 204.0539 - val_mae: 11.0156\n",
      "Epoch 58/100\n",
      "3/3 [==============================] - 0s 27ms/step - loss: 0.5263 - mae: 0.5571 - val_loss: 203.9101 - val_mae: 11.0115\n",
      "Epoch 59/100\n",
      "3/3 [==============================] - 0s 16ms/step - loss: 0.4502 - mae: 0.5109 - val_loss: 203.8007 - val_mae: 11.0081\n",
      "Epoch 60/100\n",
      "3/3 [==============================] - 0s 12ms/step - loss: 0.3849 - mae: 0.4681 - val_loss: 203.7135 - val_mae: 11.0051\n",
      "Epoch 61/100\n",
      "3/3 [==============================] - 0s 16ms/step - loss: 0.3289 - mae: 0.4289 - val_loss: 203.6402 - val_mae: 11.0021\n",
      "Epoch 62/100\n",
      "3/3 [==============================] - 0s 19ms/step - loss: 0.2808 - mae: 0.3930 - val_loss: 203.5752 - val_mae: 10.9989\n",
      "Epoch 63/100\n",
      "3/3 [==============================] - 0s 11ms/step - loss: 0.2397 - mae: 0.3599 - val_loss: 203.5127 - val_mae: 10.9957\n",
      "Epoch 64/100\n",
      "3/3 [==============================] - 0s 9ms/step - loss: 0.2046 - mae: 0.3294 - val_loss: 203.4490 - val_mae: 10.9925\n",
      "Epoch 65/100\n",
      "3/3 [==============================] - 0s 14ms/step - loss: 0.1746 - mae: 0.3023 - val_loss: 203.3838 - val_mae: 10.9892\n",
      "Epoch 66/100\n",
      "3/3 [==============================] - 0s 10ms/step - loss: 0.1489 - mae: 0.2772 - val_loss: 203.3180 - val_mae: 10.9860\n",
      "Epoch 67/100\n",
      "3/3 [==============================] - 0s 11ms/step - loss: 0.1269 - mae: 0.2539 - val_loss: 203.2524 - val_mae: 10.9828\n",
      "Epoch 68/100\n",
      "3/3 [==============================] - 0s 13ms/step - loss: 0.1081 - mae: 0.2324 - val_loss: 203.1884 - val_mae: 10.9797\n",
      "Epoch 69/100\n",
      "3/3 [==============================] - 0s 9ms/step - loss: 0.0920 - mae: 0.2125 - val_loss: 203.1269 - val_mae: 10.9767\n",
      "Epoch 70/100\n",
      "3/3 [==============================] - 0s 15ms/step - loss: 0.0784 - mae: 0.1944 - val_loss: 203.0692 - val_mae: 10.9738\n",
      "Epoch 71/100\n",
      "3/3 [==============================] - 0s 12ms/step - loss: 0.0667 - mae: 0.1779 - val_loss: 203.0174 - val_mae: 10.9712\n",
      "Epoch 72/100\n",
      "3/3 [==============================] - 0s 8ms/step - loss: 0.0567 - mae: 0.1626 - val_loss: 202.9731 - val_mae: 10.9690\n",
      "Epoch 73/100\n",
      "3/3 [==============================] - 0s 10ms/step - loss: 0.0482 - mae: 0.1486 - val_loss: 202.9359 - val_mae: 10.9669\n",
      "Epoch 74/100\n",
      "3/3 [==============================] - 0s 9ms/step - loss: 0.0410 - mae: 0.1356 - val_loss: 202.9052 - val_mae: 10.9651\n",
      "Epoch 75/100\n",
      "3/3 [==============================] - 0s 14ms/step - loss: 0.0348 - mae: 0.1238 - val_loss: 202.8809 - val_mae: 10.9635\n",
      "Epoch 76/100\n",
      "3/3 [==============================] - 0s 21ms/step - loss: 0.0296 - mae: 0.1132 - val_loss: 202.8615 - val_mae: 10.9621\n",
      "Epoch 77/100\n",
      "3/3 [==============================] - 0s 7ms/step - loss: 0.0252 - mae: 0.1034 - val_loss: 202.8457 - val_mae: 10.9609\n",
      "Epoch 78/100\n",
      "3/3 [==============================] - 0s 10ms/step - loss: 0.0214 - mae: 0.0945 - val_loss: 202.8327 - val_mae: 10.9597\n",
      "Epoch 79/100\n",
      "3/3 [==============================] - 0s 17ms/step - loss: 0.0182 - mae: 0.0863 - val_loss: 202.8221 - val_mae: 10.9586\n",
      "Epoch 80/100\n",
      "3/3 [==============================] - 0s 7ms/step - loss: 0.0155 - mae: 0.0788 - val_loss: 202.8125 - val_mae: 10.9576\n",
      "Epoch 81/100\n",
      "3/3 [==============================] - 0s 9ms/step - loss: 0.0132 - mae: 0.0719 - val_loss: 202.8042 - val_mae: 10.9568\n",
      "Epoch 82/100\n",
      "3/3 [==============================] - 0s 7ms/step - loss: 0.0112 - mae: 0.0656 - val_loss: 202.7965 - val_mae: 10.9559\n",
      "Epoch 83/100\n",
      "3/3 [==============================] - 0s 7ms/step - loss: 0.0096 - mae: 0.0598 - val_loss: 202.7893 - val_mae: 10.9551\n",
      "Epoch 84/100\n",
      "3/3 [==============================] - 0s 6ms/step - loss: 0.0081 - mae: 0.0546 - val_loss: 202.7825 - val_mae: 10.9544\n",
      "Epoch 85/100\n",
      "3/3 [==============================] - 0s 16ms/step - loss: 0.0069 - mae: 0.0498 - val_loss: 202.7758 - val_mae: 10.9546\n",
      "Epoch 86/100\n",
      "3/3 [==============================] - 0s 10ms/step - loss: 0.0059 - mae: 0.0454 - val_loss: 202.7691 - val_mae: 10.9547\n",
      "Epoch 87/100\n",
      "3/3 [==============================] - 0s 17ms/step - loss: 0.0050 - mae: 0.0416 - val_loss: 202.7623 - val_mae: 10.9549\n",
      "Epoch 88/100\n",
      "3/3 [==============================] - 0s 7ms/step - loss: 0.0043 - mae: 0.0380 - val_loss: 202.7558 - val_mae: 10.9549\n",
      "Epoch 89/100\n",
      "3/3 [==============================] - 0s 6ms/step - loss: 0.0036 - mae: 0.0348 - val_loss: 202.7498 - val_mae: 10.9550\n",
      "Epoch 90/100\n",
      "3/3 [==============================] - 0s 6ms/step - loss: 0.0031 - mae: 0.0318 - val_loss: 202.7447 - val_mae: 10.9551\n",
      "Epoch 91/100\n",
      "3/3 [==============================] - 0s 11ms/step - loss: 0.0027 - mae: 0.0291 - val_loss: 202.7405 - val_mae: 10.9552\n",
      "Epoch 92/100\n",
      "3/3 [==============================] - 0s 17ms/step - loss: 0.0023 - mae: 0.0266 - val_loss: 202.7370 - val_mae: 10.9552\n",
      "Epoch 93/100\n",
      "3/3 [==============================] - 0s 9ms/step - loss: 0.0019 - mae: 0.0244 - val_loss: 202.7339 - val_mae: 10.9553\n",
      "Epoch 94/100\n",
      "3/3 [==============================] - 0s 10ms/step - loss: 0.0017 - mae: 0.0223 - val_loss: 202.7312 - val_mae: 10.9554\n",
      "Epoch 95/100\n",
      "3/3 [==============================] - 0s 8ms/step - loss: 0.0014 - mae: 0.0204 - val_loss: 202.7289 - val_mae: 10.9554\n",
      "Epoch 96/100\n",
      "3/3 [==============================] - 0s 13ms/step - loss: 0.0012 - mae: 0.0187 - val_loss: 202.7268 - val_mae: 10.9555\n",
      "Epoch 97/100\n",
      "3/3 [==============================] - 0s 9ms/step - loss: 0.0010 - mae: 0.0171 - val_loss: 202.7253 - val_mae: 10.9555\n",
      "Epoch 98/100\n",
      "3/3 [==============================] - 0s 20ms/step - loss: 8.8844e-04 - mae: 0.0157 - val_loss: 202.7240 - val_mae: 10.9556\n",
      "Epoch 99/100\n",
      "3/3 [==============================] - 0s 8ms/step - loss: 7.6116e-04 - mae: 0.0144 - val_loss: 202.7229 - val_mae: 10.9556\n",
      "Epoch 100/100\n",
      "3/3 [==============================] - 0s 10ms/step - loss: 6.5200e-04 - mae: 0.0131 - val_loss: 202.7218 - val_mae: 10.9557\n"
     ]
    }
   ],
   "source": [
    "# callback to stop execution early if the module is not improving much.\n",
    "early_stopping = keras.callbacks.EarlyStopping(monitor='val_loss', patience=5, restore_best_weights=True)\n",
    "\n",
    "# compile the model with adam optemizer\n",
    "model.compile(optimizer=keras.optimizers.Adam(\n",
    "        learning_rate=1e-3), loss='mse', metrics=['mae'])\n",
    "\n",
    "# training the model\n",
    "history = model.fit(\n",
    "    X_train_data,\n",
    "    validation_data=X_cv_data,\n",
    "    epochs=100,callbacks=[early_stopping]\n",
    ")"
   ]
  },
  {
   "cell_type": "code",
   "execution_count": 193,
   "metadata": {},
   "outputs": [
    {
     "data": {
      "image/png": "[encoded data removed]",
      "text/plain": [
       "<Figure size 640x480 with 1 Axes>"
      ]
     },
     "metadata": {},
     "output_type": "display_data"
    }
   ],
   "source": [
    "# show loss curve\n",
    "loss = history.history['loss']\n",
    "val_loss = history.history['val_loss']\n",
    "\n",
    "plt.plot(loss, label='Training MSE')\n",
    "plt.plot(val_loss, label='Validation MSE')\n",
    "plt.legend(loc='upper right')\n",
    "plt.ylabel('MSE')\n",
    "plt.xlabel('Epoch')\n",
    "plt.title('MSE per Epoch')\n",
    "plt.show()"
   ]
  },
  {
   "cell_type": "code",
   "execution_count": 194,
   "metadata": {},
   "outputs": [
    {
     "name": "stdout",
     "output_type": "stream",
     "text": [
      "1/1 [==============================] - 0s 66ms/step - loss: 222.4899 - mae: 12.0937\n"
     ]
    },
    {
     "data": {
      "text/plain": [
       "[222.4899444580078, 12.093725204467773]"
      ]
     },
     "execution_count": 194,
     "metadata": {},
     "output_type": "execute_result"
    }
   ],
   "source": [
    "model.evaluate(X_test, y_test)"
   ]
  },
  {
   "cell_type": "code",
   "execution_count": 195,
   "metadata": {},
   "outputs": [
    {
     "name": "stdout",
     "output_type": "stream",
     "text": [
      "1/1 [==============================] - 0s 19ms/step - loss: 202.7218 - mae: 10.9557\n"
     ]
    },
    {
     "data": {
      "text/plain": [
       "[202.72177124023438, 10.955659866333008]"
      ]
     },
     "execution_count": 195,
     "metadata": {},
     "output_type": "execute_result"
    }
   ],
   "source": [
    "model.evaluate(X_cv, y_cv)\n"
   ]
  },
  {
   "cell_type": "code",
   "execution_count": 196,
   "metadata": {},
   "outputs": [
    {
     "name": "stdout",
     "output_type": "stream",
     "text": [
      "2/2 [==============================] - 0s 4ms/step - loss: 5.9649e-04 - mae: 0.0123\n"
     ]
    },
    {
     "data": {
      "text/plain": [
       "[0.0005964917363598943, 0.012308759614825249]"
      ]
     },
     "execution_count": 196,
     "metadata": {},
     "output_type": "execute_result"
    }
   ],
   "source": [
    "model.evaluate(X_train, y_train)\n"
   ]
  },
  {
   "cell_type": "code",
   "execution_count": 198,
   "metadata": {},
   "outputs": [],
   "source": [
    "jd = pdf2Text('../data/dataset/Job description.pdf')\n",
    "jd_processed = preprocess_text(jd, removeStopWords=True)\n",
    "resume = pdf2Text('../data/dataset/trainResumes/' + 'candidate_037' + '.pdf')\n",
    "resume = preprocess_text(resume, removeStopWords=True)"
   ]
  },
  {
   "cell_type": "code",
   "execution_count": 242,
   "metadata": {},
   "outputs": [
    {
     "name": "stdout",
     "output_type": "stream",
     "text": [
      "(1, 13)\n",
      "(1, 15)\n",
      "(1, 640)\n",
      "(1, 640)\n"
     ]
    }
   ],
   "source": [
    "data = pd.DataFrame({'job_description': [jd_processed]*1, 'processed_resume': [resume], 'match_percentage': [None]})\n",
    "def cosine_euclidean(u, v):\n",
    "    return np.array([np.dot(u, v) / (np.linalg.norm(u) * np.linalg.norm(v)), np.linalg.norm(u - v)])\n",
    "\n",
    "reputed_colleges = ['bits', 'iit', 'bhu', 'nit', 'vit', 'anna', 'jadavpur', 'tiet', 'thapar', 'iisc', 'srm', 'dtu', 'iiit']\n",
    "data_feature = feature_extract(data)\n",
    "data_feature.drop(columns=['common_word_ratio', 'common_word_ratio_max'], inplace=True)\n",
    "print(data_feature.shape)\n",
    "vocab_text = np.unique(np.append(data_feature.processed_resume.values, data_feature.job_description.values))\n",
    "bow_vocab = np.array(list(vectorizer.vocabulary_.keys()))\n",
    "bow_resume = vectorizer.transform(data_feature.processed_resume.values).toarray()\n",
    "bow_jd = vectorizer.transform(data_feature.job_description.values).toarray()\n",
    "cosine_euclidean_data = np.array([cosine_euclidean(bow_jd[i], bow_resume[i]) for i in range(len(bow_resume))])\n",
    "data_feature[[\"cosine_similarity\", \"euclidean_distance\"]] = cosine_euclidean_data\n",
    "print(data_feature.shape)\n",
    "print(bow_resume.shape)\n",
    "print(bow_jd.shape)\n"
   ]
  },
  {
   "cell_type": "code",
   "execution_count": 243,
   "metadata": {},
   "outputs": [
    {
     "name": "stdout",
     "output_type": "stream",
     "text": [
      "(1, 12)\n",
      "(1, 640)\n",
      "(1, 640)\n",
      "(1, 1292)\n"
     ]
    }
   ],
   "source": [
    "X_bow_1 = data_feature.drop(columns=['job_description', 'processed_resume', 'match_percentage'])\n",
    "X_bow_2 = pd.DataFrame(bow_jd, columns=['bow_jd_'+str(i) for i in range(1, bow_jd.shape[1]+1)])\n",
    "X_bow_3 = pd.DataFrame(bow_resume, columns=['bow_resume_'+str(i) for i in range(1, bow_resume.shape[1]+1)])\n",
    "print(X_bow_1.shape)\n",
    "print(X_bow_2.shape)\n",
    "print(X_bow_3.shape)\n",
    "\n",
    "X_bow = pd.concat([X_bow_1, X_bow_2, X_bow_3], axis=1)\n",
    "print(X_bow.shape)\n",
    "features = X_bow.columns.to_numpy()\n",
    "with open('top_features_bow.npy', 'rb') as f:\n",
    "    features = np.load(f, allow_pickle=True)\n",
    "X_bow = X_bow.loc[:, features]\n",
    "scaler = StandardScaler()\n",
    "scaler.fit(X_bow)\n",
    "X_bow = scaler.transform(X_bow)"
   ]
  },
  {
   "cell_type": "code",
   "execution_count": null,
   "metadata": {},
   "outputs": [],
   "source": [
    "def cosine_euclidean(u, v):\n",
    "    return np.array([np.dot(u, v) / (np.linalg.norm(u) * np.linalg.norm(v)), np.linalg.norm(u - v)])\n",
    "\n",
    "\n",
    "def getAverageWord2Vec(sentence,w2v_words,w2v_model):\n",
    "    ''' get Average Word2Vec given a sentence'''\n",
    "    # initialize sentence_vector to zeros\n",
    "    sentence_vector = np.zeros(300)\n",
    "    # count words in sentence\n",
    "    count_words = 0\n",
    "    # loop over each word\n",
    "    for word in sentence.split():\n",
    "        # if there is a vector for given word\n",
    "        if word in w2v_words:\n",
    "            # get the vector\n",
    "            vector = w2v_model[word]\n",
    "            # add the vectors\n",
    "            sentence_vector = sentence_vector + vector\n",
    "            # increment count\n",
    "            count_words = count_words + 1\n",
    "    if count_words != 0:\n",
    "        # if the word count is not zero then divide by it to get the average\n",
    "        sentence_vector /= count_words\n",
    "    # return the avg word2vec\n",
    "    return sentence_vector"
   ]
  },
  {
   "cell_type": "code",
   "execution_count": 244,
   "metadata": {},
   "outputs": [
    {
     "name": "stderr",
     "output_type": "stream",
     "text": [
      "100%|██████████| 1/1 [00:00<00:00,  3.34it/s]\n",
      "100%|██████████| 1/1 [00:00<00:00,  2.16it/s]\n"
     ]
    }
   ],
   "source": [
    "data_feature2 = data_feature.drop(columns=['cosine_similarity', 'euclidean_distance'])\n",
    "w2v_model = KeyedVectors.load_word2vec_format('../data/GoogleNews-vectors-negative300.bin', binary=True)\n",
    "w2v_words = list(w2v_model.key_to_index)\n",
    "\n",
    "w2v_resume = []\n",
    "for sentence in tqdm(data_feature2.processed_resume.values):\n",
    "    w2v_resume.append(getAverageWord2Vec(sentence,w2v_words,w2v_model))\n",
    "\n",
    "w2v_resume = np.array(w2v_resume)\n",
    "w2v_jd = []\n",
    "for sentence in tqdm(data_feature2.job_description.values):\n",
    "    w2v_jd.append(getAverageWord2Vec(sentence,w2v_words,w2v_model))\n",
    "\n",
    "w2v_jd = np.array(w2v_jd)\n",
    "cosine_euclidean_data = np.array([cosine_euclidean(w2v_jd[i], w2v_resume[i]) for i in range(len(w2v_resume))])\n",
    "\n",
    "data_feature2[[\"cosine_similarity\", \"euclidean_distance\"]] = cosine_euclidean_data"
   ]
  },
  {
   "cell_type": "code",
   "execution_count": 245,
   "metadata": {},
   "outputs": [],
   "source": [
    "# create_dataset\n",
    "X_w2v_1 = data_feature2.drop(columns=['job_description', 'processed_resume', 'match_percentage'])\n",
    "X_w2v_2 = pd.DataFrame(w2v_jd, columns=['w2v_jd_'+str(i) for i in range(1, w2v_jd.shape[1]+1)])\n",
    "X_w2v_3 = pd.DataFrame(w2v_resume, columns=['w2v_resume_'+str(i) for i in range(1, w2v_resume.shape[1]+1)])\n",
    "X_w2v = pd.concat([X_w2v_1, X_w2v_2, X_w2v_3], axis=1)\n",
    "features = X_w2v.columns.to_numpy()\n",
    "with open('top_features_w2v.npy', 'rb') as f:\n",
    "    features = np.load(f, allow_pickle=True)\n",
    "X_w2v = X_w2v[features]\n",
    "scaler = StandardScaler()\n",
    "scaler.fit(X_w2v)\n",
    "X_w2v = scaler.transform(X_w2v)"
   ]
  },
  {
   "cell_type": "code",
   "execution_count": 246,
   "metadata": {},
   "outputs": [],
   "source": [
    "X = np.concatenate((X_bow,X_w2v), axis=1)"
   ]
  },
  {
   "cell_type": "code",
   "execution_count": null,
   "metadata": {},
   "outputs": [],
   "source": [
    "model.predict(X)"
   ]
  },
  {
   "cell_type": "markdown",
   "metadata": {},
   "source": [
    "### Modelo 3"
   ]
  },
  {
   "cell_type": "code",
   "execution_count": null,
   "metadata": {},
   "outputs": [],
   "source": []
  }
 ],
 "metadata": {
  "kernelspec": {
   "display_name": "Python 3",
   "language": "python",
   "name": "python3"
  },
  "language_info": {
   "codemirror_mode": {
    "name": "ipython",
    "version": 3
   },
   "file_extension": ".py",
   "mimetype": "text/x-python",
   "name": "python",
   "nbconvert_exporter": "python",
   "pygments_lexer": "ipython3",
   "version": "3.10.12"
  }
 },
 "nbformat": 4,
 "nbformat_minor": 2
}
